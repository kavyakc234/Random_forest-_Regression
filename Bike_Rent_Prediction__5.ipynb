{
  "cells": [
    {
      "cell_type": "markdown",
      "id": "151fb4d2",
      "metadata": {
        "id": "151fb4d2"
      },
      "source": [
        "# Bike rental count prediction"
      ]
    },
    {
      "cell_type": "code",
      "execution_count": 3,
      "id": "e6da3961",
      "metadata": {
        "id": "e6da3961"
      },
      "outputs": [],
      "source": [
        "import pandas as pd          \n",
        "import numpy as np \n",
        "import seaborn as sns # For mathematical calculations\n",
        "import matplotlib.pyplot as plt  # For plotting graphs \n"
      ]
    },
    {
      "cell_type": "code",
      "execution_count": 4,
      "id": "9cd30c2f",
      "metadata": {
        "id": "9cd30c2f"
      },
      "outputs": [],
      "source": [
        "df = pd.read_csv(\"day.csv\")"
      ]
    },
    {
      "cell_type": "code",
      "execution_count": 5,
      "id": "cf47a261",
      "metadata": {
        "colab": {
          "base_uri": "https://localhost:8080/"
        },
        "id": "cf47a261",
        "outputId": "11672582-d739-483b-bf8c-d0733eba13c6"
      },
      "outputs": [
        {
          "output_type": "execute_result",
          "data": {
            "text/plain": [
              "(731, 16)"
            ]
          },
          "metadata": {},
          "execution_count": 5
        }
      ],
      "source": [
        "df.shape"
      ]
    },
    {
      "cell_type": "code",
      "execution_count": 6,
      "id": "99924766",
      "metadata": {
        "colab": {
          "base_uri": "https://localhost:8080/",
          "height": 337
        },
        "id": "99924766",
        "outputId": "45f44040-f840-4e26-9106-b6889b9d1dd6"
      },
      "outputs": [
        {
          "output_type": "execute_result",
          "data": {
            "text/plain": [
              "   instant      dteday  season  yr  mnth  holiday  weekday  workingday  \\\n",
              "0        1  2011-01-01       1   0     1        0        6           0   \n",
              "1        2  2011-01-02       1   0     1        0        0           0   \n",
              "2        3  2011-01-03       1   0     1        0        1           1   \n",
              "3        4  2011-01-04       1   0     1        0        2           1   \n",
              "4        5  2011-01-05       1   0     1        0        3           1   \n",
              "\n",
              "   weathersit      temp     atemp       hum  windspeed  casual  registered  \\\n",
              "0           2  0.344167  0.363625  0.805833   0.160446     331         654   \n",
              "1           2  0.363478  0.353739  0.696087   0.248539     131         670   \n",
              "2           1  0.196364  0.189405  0.437273   0.248309     120        1229   \n",
              "3           1  0.200000  0.212122  0.590435   0.160296     108        1454   \n",
              "4           1  0.226957  0.229270  0.436957   0.186900      82        1518   \n",
              "\n",
              "    cnt  \n",
              "0   985  \n",
              "1   801  \n",
              "2  1349  \n",
              "3  1562  \n",
              "4  1600  "
            ],
            "text/html": [
              "\n",
              "  <div id=\"df-3c09cf42-d617-4c6b-adb8-c9b7023af427\">\n",
              "    <div class=\"colab-df-container\">\n",
              "      <div>\n",
              "<style scoped>\n",
              "    .dataframe tbody tr th:only-of-type {\n",
              "        vertical-align: middle;\n",
              "    }\n",
              "\n",
              "    .dataframe tbody tr th {\n",
              "        vertical-align: top;\n",
              "    }\n",
              "\n",
              "    .dataframe thead th {\n",
              "        text-align: right;\n",
              "    }\n",
              "</style>\n",
              "<table border=\"1\" class=\"dataframe\">\n",
              "  <thead>\n",
              "    <tr style=\"text-align: right;\">\n",
              "      <th></th>\n",
              "      <th>instant</th>\n",
              "      <th>dteday</th>\n",
              "      <th>season</th>\n",
              "      <th>yr</th>\n",
              "      <th>mnth</th>\n",
              "      <th>holiday</th>\n",
              "      <th>weekday</th>\n",
              "      <th>workingday</th>\n",
              "      <th>weathersit</th>\n",
              "      <th>temp</th>\n",
              "      <th>atemp</th>\n",
              "      <th>hum</th>\n",
              "      <th>windspeed</th>\n",
              "      <th>casual</th>\n",
              "      <th>registered</th>\n",
              "      <th>cnt</th>\n",
              "    </tr>\n",
              "  </thead>\n",
              "  <tbody>\n",
              "    <tr>\n",
              "      <th>0</th>\n",
              "      <td>1</td>\n",
              "      <td>2011-01-01</td>\n",
              "      <td>1</td>\n",
              "      <td>0</td>\n",
              "      <td>1</td>\n",
              "      <td>0</td>\n",
              "      <td>6</td>\n",
              "      <td>0</td>\n",
              "      <td>2</td>\n",
              "      <td>0.344167</td>\n",
              "      <td>0.363625</td>\n",
              "      <td>0.805833</td>\n",
              "      <td>0.160446</td>\n",
              "      <td>331</td>\n",
              "      <td>654</td>\n",
              "      <td>985</td>\n",
              "    </tr>\n",
              "    <tr>\n",
              "      <th>1</th>\n",
              "      <td>2</td>\n",
              "      <td>2011-01-02</td>\n",
              "      <td>1</td>\n",
              "      <td>0</td>\n",
              "      <td>1</td>\n",
              "      <td>0</td>\n",
              "      <td>0</td>\n",
              "      <td>0</td>\n",
              "      <td>2</td>\n",
              "      <td>0.363478</td>\n",
              "      <td>0.353739</td>\n",
              "      <td>0.696087</td>\n",
              "      <td>0.248539</td>\n",
              "      <td>131</td>\n",
              "      <td>670</td>\n",
              "      <td>801</td>\n",
              "    </tr>\n",
              "    <tr>\n",
              "      <th>2</th>\n",
              "      <td>3</td>\n",
              "      <td>2011-01-03</td>\n",
              "      <td>1</td>\n",
              "      <td>0</td>\n",
              "      <td>1</td>\n",
              "      <td>0</td>\n",
              "      <td>1</td>\n",
              "      <td>1</td>\n",
              "      <td>1</td>\n",
              "      <td>0.196364</td>\n",
              "      <td>0.189405</td>\n",
              "      <td>0.437273</td>\n",
              "      <td>0.248309</td>\n",
              "      <td>120</td>\n",
              "      <td>1229</td>\n",
              "      <td>1349</td>\n",
              "    </tr>\n",
              "    <tr>\n",
              "      <th>3</th>\n",
              "      <td>4</td>\n",
              "      <td>2011-01-04</td>\n",
              "      <td>1</td>\n",
              "      <td>0</td>\n",
              "      <td>1</td>\n",
              "      <td>0</td>\n",
              "      <td>2</td>\n",
              "      <td>1</td>\n",
              "      <td>1</td>\n",
              "      <td>0.200000</td>\n",
              "      <td>0.212122</td>\n",
              "      <td>0.590435</td>\n",
              "      <td>0.160296</td>\n",
              "      <td>108</td>\n",
              "      <td>1454</td>\n",
              "      <td>1562</td>\n",
              "    </tr>\n",
              "    <tr>\n",
              "      <th>4</th>\n",
              "      <td>5</td>\n",
              "      <td>2011-01-05</td>\n",
              "      <td>1</td>\n",
              "      <td>0</td>\n",
              "      <td>1</td>\n",
              "      <td>0</td>\n",
              "      <td>3</td>\n",
              "      <td>1</td>\n",
              "      <td>1</td>\n",
              "      <td>0.226957</td>\n",
              "      <td>0.229270</td>\n",
              "      <td>0.436957</td>\n",
              "      <td>0.186900</td>\n",
              "      <td>82</td>\n",
              "      <td>1518</td>\n",
              "      <td>1600</td>\n",
              "    </tr>\n",
              "  </tbody>\n",
              "</table>\n",
              "</div>\n",
              "      <button class=\"colab-df-convert\" onclick=\"convertToInteractive('df-3c09cf42-d617-4c6b-adb8-c9b7023af427')\"\n",
              "              title=\"Convert this dataframe to an interactive table.\"\n",
              "              style=\"display:none;\">\n",
              "        \n",
              "  <svg xmlns=\"http://www.w3.org/2000/svg\" height=\"24px\"viewBox=\"0 0 24 24\"\n",
              "       width=\"24px\">\n",
              "    <path d=\"M0 0h24v24H0V0z\" fill=\"none\"/>\n",
              "    <path d=\"M18.56 5.44l.94 2.06.94-2.06 2.06-.94-2.06-.94-.94-2.06-.94 2.06-2.06.94zm-11 1L8.5 8.5l.94-2.06 2.06-.94-2.06-.94L8.5 2.5l-.94 2.06-2.06.94zm10 10l.94 2.06.94-2.06 2.06-.94-2.06-.94-.94-2.06-.94 2.06-2.06.94z\"/><path d=\"M17.41 7.96l-1.37-1.37c-.4-.4-.92-.59-1.43-.59-.52 0-1.04.2-1.43.59L10.3 9.45l-7.72 7.72c-.78.78-.78 2.05 0 2.83L4 21.41c.39.39.9.59 1.41.59.51 0 1.02-.2 1.41-.59l7.78-7.78 2.81-2.81c.8-.78.8-2.07 0-2.86zM5.41 20L4 18.59l7.72-7.72 1.47 1.35L5.41 20z\"/>\n",
              "  </svg>\n",
              "      </button>\n",
              "      \n",
              "  <style>\n",
              "    .colab-df-container {\n",
              "      display:flex;\n",
              "      flex-wrap:wrap;\n",
              "      gap: 12px;\n",
              "    }\n",
              "\n",
              "    .colab-df-convert {\n",
              "      background-color: #E8F0FE;\n",
              "      border: none;\n",
              "      border-radius: 50%;\n",
              "      cursor: pointer;\n",
              "      display: none;\n",
              "      fill: #1967D2;\n",
              "      height: 32px;\n",
              "      padding: 0 0 0 0;\n",
              "      width: 32px;\n",
              "    }\n",
              "\n",
              "    .colab-df-convert:hover {\n",
              "      background-color: #E2EBFA;\n",
              "      box-shadow: 0px 1px 2px rgba(60, 64, 67, 0.3), 0px 1px 3px 1px rgba(60, 64, 67, 0.15);\n",
              "      fill: #174EA6;\n",
              "    }\n",
              "\n",
              "    [theme=dark] .colab-df-convert {\n",
              "      background-color: #3B4455;\n",
              "      fill: #D2E3FC;\n",
              "    }\n",
              "\n",
              "    [theme=dark] .colab-df-convert:hover {\n",
              "      background-color: #434B5C;\n",
              "      box-shadow: 0px 1px 3px 1px rgba(0, 0, 0, 0.15);\n",
              "      filter: drop-shadow(0px 1px 2px rgba(0, 0, 0, 0.3));\n",
              "      fill: #FFFFFF;\n",
              "    }\n",
              "  </style>\n",
              "\n",
              "      <script>\n",
              "        const buttonEl =\n",
              "          document.querySelector('#df-3c09cf42-d617-4c6b-adb8-c9b7023af427 button.colab-df-convert');\n",
              "        buttonEl.style.display =\n",
              "          google.colab.kernel.accessAllowed ? 'block' : 'none';\n",
              "\n",
              "        async function convertToInteractive(key) {\n",
              "          const element = document.querySelector('#df-3c09cf42-d617-4c6b-adb8-c9b7023af427');\n",
              "          const dataTable =\n",
              "            await google.colab.kernel.invokeFunction('convertToInteractive',\n",
              "                                                     [key], {});\n",
              "          if (!dataTable) return;\n",
              "\n",
              "          const docLinkHtml = 'Like what you see? Visit the ' +\n",
              "            '<a target=\"_blank\" href=https://colab.research.google.com/notebooks/data_table.ipynb>data table notebook</a>'\n",
              "            + ' to learn more about interactive tables.';\n",
              "          element.innerHTML = '';\n",
              "          dataTable['output_type'] = 'display_data';\n",
              "          await google.colab.output.renderOutput(dataTable, element);\n",
              "          const docLink = document.createElement('div');\n",
              "          docLink.innerHTML = docLinkHtml;\n",
              "          element.appendChild(docLink);\n",
              "        }\n",
              "      </script>\n",
              "    </div>\n",
              "  </div>\n",
              "  "
            ]
          },
          "metadata": {},
          "execution_count": 6
        }
      ],
      "source": [
        "df.head()"
      ]
    },
    {
      "cell_type": "code",
      "execution_count": 7,
      "id": "0c503597",
      "metadata": {
        "colab": {
          "base_uri": "https://localhost:8080/"
        },
        "id": "0c503597",
        "outputId": "431e2a88-55b0-423f-aaa7-83e4f3d15a05"
      },
      "outputs": [
        {
          "output_type": "stream",
          "name": "stdout",
          "text": [
            "<class 'pandas.core.frame.DataFrame'>\n",
            "RangeIndex: 731 entries, 0 to 730\n",
            "Data columns (total 16 columns):\n",
            " #   Column      Non-Null Count  Dtype  \n",
            "---  ------      --------------  -----  \n",
            " 0   instant     731 non-null    int64  \n",
            " 1   dteday      731 non-null    object \n",
            " 2   season      731 non-null    int64  \n",
            " 3   yr          731 non-null    int64  \n",
            " 4   mnth        731 non-null    int64  \n",
            " 5   holiday     731 non-null    int64  \n",
            " 6   weekday     731 non-null    int64  \n",
            " 7   workingday  731 non-null    int64  \n",
            " 8   weathersit  731 non-null    int64  \n",
            " 9   temp        731 non-null    float64\n",
            " 10  atemp       731 non-null    float64\n",
            " 11  hum         731 non-null    float64\n",
            " 12  windspeed   731 non-null    float64\n",
            " 13  casual      731 non-null    int64  \n",
            " 14  registered  731 non-null    int64  \n",
            " 15  cnt         731 non-null    int64  \n",
            "dtypes: float64(4), int64(11), object(1)\n",
            "memory usage: 91.5+ KB\n"
          ]
        }
      ],
      "source": [
        "df.info()"
      ]
    },
    {
      "cell_type": "markdown",
      "id": "eab7a262",
      "metadata": {
        "id": "eab7a262"
      },
      "source": [
        "Rename the columns"
      ]
    },
    {
      "cell_type": "code",
      "execution_count": 8,
      "id": "e46b8634",
      "metadata": {
        "id": "e46b8634"
      },
      "outputs": [],
      "source": [
        "df.rename(columns={'instant':'rec_id','dteday':'datetime','yr':'year','mnth':'month','weathersit':'weather_condition',\n",
        "                       'hum':'humidity','cnt':'total_count'},inplace=True)"
      ]
    },
    {
      "cell_type": "markdown",
      "id": "323b8d79",
      "metadata": {
        "id": "323b8d79"
      },
      "source": [
        "Missing value analysis"
      ]
    },
    {
      "cell_type": "code",
      "execution_count": 9,
      "id": "53ad8a2a",
      "metadata": {
        "colab": {
          "base_uri": "https://localhost:8080/",
          "height": 487
        },
        "id": "53ad8a2a",
        "outputId": "25230607-b026-4ef2-b462-8c7b7c6f8584"
      },
      "outputs": [
        {
          "output_type": "execute_result",
          "data": {
            "text/plain": [
              "     rec_id  datetime  season   year  month  holiday  weekday  workingday  \\\n",
              "0     False     False   False  False  False    False    False       False   \n",
              "1     False     False   False  False  False    False    False       False   \n",
              "2     False     False   False  False  False    False    False       False   \n",
              "3     False     False   False  False  False    False    False       False   \n",
              "4     False     False   False  False  False    False    False       False   \n",
              "..      ...       ...     ...    ...    ...      ...      ...         ...   \n",
              "726   False     False   False  False  False    False    False       False   \n",
              "727   False     False   False  False  False    False    False       False   \n",
              "728   False     False   False  False  False    False    False       False   \n",
              "729   False     False   False  False  False    False    False       False   \n",
              "730   False     False   False  False  False    False    False       False   \n",
              "\n",
              "     weather_condition   temp  atemp  humidity  windspeed  casual  registered  \\\n",
              "0                False  False  False     False      False   False       False   \n",
              "1                False  False  False     False      False   False       False   \n",
              "2                False  False  False     False      False   False       False   \n",
              "3                False  False  False     False      False   False       False   \n",
              "4                False  False  False     False      False   False       False   \n",
              "..                 ...    ...    ...       ...        ...     ...         ...   \n",
              "726              False  False  False     False      False   False       False   \n",
              "727              False  False  False     False      False   False       False   \n",
              "728              False  False  False     False      False   False       False   \n",
              "729              False  False  False     False      False   False       False   \n",
              "730              False  False  False     False      False   False       False   \n",
              "\n",
              "     total_count  \n",
              "0          False  \n",
              "1          False  \n",
              "2          False  \n",
              "3          False  \n",
              "4          False  \n",
              "..           ...  \n",
              "726        False  \n",
              "727        False  \n",
              "728        False  \n",
              "729        False  \n",
              "730        False  \n",
              "\n",
              "[731 rows x 16 columns]"
            ],
            "text/html": [
              "\n",
              "  <div id=\"df-0519a34b-1319-4ad1-a17c-4c149fd5ec4d\">\n",
              "    <div class=\"colab-df-container\">\n",
              "      <div>\n",
              "<style scoped>\n",
              "    .dataframe tbody tr th:only-of-type {\n",
              "        vertical-align: middle;\n",
              "    }\n",
              "\n",
              "    .dataframe tbody tr th {\n",
              "        vertical-align: top;\n",
              "    }\n",
              "\n",
              "    .dataframe thead th {\n",
              "        text-align: right;\n",
              "    }\n",
              "</style>\n",
              "<table border=\"1\" class=\"dataframe\">\n",
              "  <thead>\n",
              "    <tr style=\"text-align: right;\">\n",
              "      <th></th>\n",
              "      <th>rec_id</th>\n",
              "      <th>datetime</th>\n",
              "      <th>season</th>\n",
              "      <th>year</th>\n",
              "      <th>month</th>\n",
              "      <th>holiday</th>\n",
              "      <th>weekday</th>\n",
              "      <th>workingday</th>\n",
              "      <th>weather_condition</th>\n",
              "      <th>temp</th>\n",
              "      <th>atemp</th>\n",
              "      <th>humidity</th>\n",
              "      <th>windspeed</th>\n",
              "      <th>casual</th>\n",
              "      <th>registered</th>\n",
              "      <th>total_count</th>\n",
              "    </tr>\n",
              "  </thead>\n",
              "  <tbody>\n",
              "    <tr>\n",
              "      <th>0</th>\n",
              "      <td>False</td>\n",
              "      <td>False</td>\n",
              "      <td>False</td>\n",
              "      <td>False</td>\n",
              "      <td>False</td>\n",
              "      <td>False</td>\n",
              "      <td>False</td>\n",
              "      <td>False</td>\n",
              "      <td>False</td>\n",
              "      <td>False</td>\n",
              "      <td>False</td>\n",
              "      <td>False</td>\n",
              "      <td>False</td>\n",
              "      <td>False</td>\n",
              "      <td>False</td>\n",
              "      <td>False</td>\n",
              "    </tr>\n",
              "    <tr>\n",
              "      <th>1</th>\n",
              "      <td>False</td>\n",
              "      <td>False</td>\n",
              "      <td>False</td>\n",
              "      <td>False</td>\n",
              "      <td>False</td>\n",
              "      <td>False</td>\n",
              "      <td>False</td>\n",
              "      <td>False</td>\n",
              "      <td>False</td>\n",
              "      <td>False</td>\n",
              "      <td>False</td>\n",
              "      <td>False</td>\n",
              "      <td>False</td>\n",
              "      <td>False</td>\n",
              "      <td>False</td>\n",
              "      <td>False</td>\n",
              "    </tr>\n",
              "    <tr>\n",
              "      <th>2</th>\n",
              "      <td>False</td>\n",
              "      <td>False</td>\n",
              "      <td>False</td>\n",
              "      <td>False</td>\n",
              "      <td>False</td>\n",
              "      <td>False</td>\n",
              "      <td>False</td>\n",
              "      <td>False</td>\n",
              "      <td>False</td>\n",
              "      <td>False</td>\n",
              "      <td>False</td>\n",
              "      <td>False</td>\n",
              "      <td>False</td>\n",
              "      <td>False</td>\n",
              "      <td>False</td>\n",
              "      <td>False</td>\n",
              "    </tr>\n",
              "    <tr>\n",
              "      <th>3</th>\n",
              "      <td>False</td>\n",
              "      <td>False</td>\n",
              "      <td>False</td>\n",
              "      <td>False</td>\n",
              "      <td>False</td>\n",
              "      <td>False</td>\n",
              "      <td>False</td>\n",
              "      <td>False</td>\n",
              "      <td>False</td>\n",
              "      <td>False</td>\n",
              "      <td>False</td>\n",
              "      <td>False</td>\n",
              "      <td>False</td>\n",
              "      <td>False</td>\n",
              "      <td>False</td>\n",
              "      <td>False</td>\n",
              "    </tr>\n",
              "    <tr>\n",
              "      <th>4</th>\n",
              "      <td>False</td>\n",
              "      <td>False</td>\n",
              "      <td>False</td>\n",
              "      <td>False</td>\n",
              "      <td>False</td>\n",
              "      <td>False</td>\n",
              "      <td>False</td>\n",
              "      <td>False</td>\n",
              "      <td>False</td>\n",
              "      <td>False</td>\n",
              "      <td>False</td>\n",
              "      <td>False</td>\n",
              "      <td>False</td>\n",
              "      <td>False</td>\n",
              "      <td>False</td>\n",
              "      <td>False</td>\n",
              "    </tr>\n",
              "    <tr>\n",
              "      <th>...</th>\n",
              "      <td>...</td>\n",
              "      <td>...</td>\n",
              "      <td>...</td>\n",
              "      <td>...</td>\n",
              "      <td>...</td>\n",
              "      <td>...</td>\n",
              "      <td>...</td>\n",
              "      <td>...</td>\n",
              "      <td>...</td>\n",
              "      <td>...</td>\n",
              "      <td>...</td>\n",
              "      <td>...</td>\n",
              "      <td>...</td>\n",
              "      <td>...</td>\n",
              "      <td>...</td>\n",
              "      <td>...</td>\n",
              "    </tr>\n",
              "    <tr>\n",
              "      <th>726</th>\n",
              "      <td>False</td>\n",
              "      <td>False</td>\n",
              "      <td>False</td>\n",
              "      <td>False</td>\n",
              "      <td>False</td>\n",
              "      <td>False</td>\n",
              "      <td>False</td>\n",
              "      <td>False</td>\n",
              "      <td>False</td>\n",
              "      <td>False</td>\n",
              "      <td>False</td>\n",
              "      <td>False</td>\n",
              "      <td>False</td>\n",
              "      <td>False</td>\n",
              "      <td>False</td>\n",
              "      <td>False</td>\n",
              "    </tr>\n",
              "    <tr>\n",
              "      <th>727</th>\n",
              "      <td>False</td>\n",
              "      <td>False</td>\n",
              "      <td>False</td>\n",
              "      <td>False</td>\n",
              "      <td>False</td>\n",
              "      <td>False</td>\n",
              "      <td>False</td>\n",
              "      <td>False</td>\n",
              "      <td>False</td>\n",
              "      <td>False</td>\n",
              "      <td>False</td>\n",
              "      <td>False</td>\n",
              "      <td>False</td>\n",
              "      <td>False</td>\n",
              "      <td>False</td>\n",
              "      <td>False</td>\n",
              "    </tr>\n",
              "    <tr>\n",
              "      <th>728</th>\n",
              "      <td>False</td>\n",
              "      <td>False</td>\n",
              "      <td>False</td>\n",
              "      <td>False</td>\n",
              "      <td>False</td>\n",
              "      <td>False</td>\n",
              "      <td>False</td>\n",
              "      <td>False</td>\n",
              "      <td>False</td>\n",
              "      <td>False</td>\n",
              "      <td>False</td>\n",
              "      <td>False</td>\n",
              "      <td>False</td>\n",
              "      <td>False</td>\n",
              "      <td>False</td>\n",
              "      <td>False</td>\n",
              "    </tr>\n",
              "    <tr>\n",
              "      <th>729</th>\n",
              "      <td>False</td>\n",
              "      <td>False</td>\n",
              "      <td>False</td>\n",
              "      <td>False</td>\n",
              "      <td>False</td>\n",
              "      <td>False</td>\n",
              "      <td>False</td>\n",
              "      <td>False</td>\n",
              "      <td>False</td>\n",
              "      <td>False</td>\n",
              "      <td>False</td>\n",
              "      <td>False</td>\n",
              "      <td>False</td>\n",
              "      <td>False</td>\n",
              "      <td>False</td>\n",
              "      <td>False</td>\n",
              "    </tr>\n",
              "    <tr>\n",
              "      <th>730</th>\n",
              "      <td>False</td>\n",
              "      <td>False</td>\n",
              "      <td>False</td>\n",
              "      <td>False</td>\n",
              "      <td>False</td>\n",
              "      <td>False</td>\n",
              "      <td>False</td>\n",
              "      <td>False</td>\n",
              "      <td>False</td>\n",
              "      <td>False</td>\n",
              "      <td>False</td>\n",
              "      <td>False</td>\n",
              "      <td>False</td>\n",
              "      <td>False</td>\n",
              "      <td>False</td>\n",
              "      <td>False</td>\n",
              "    </tr>\n",
              "  </tbody>\n",
              "</table>\n",
              "<p>731 rows × 16 columns</p>\n",
              "</div>\n",
              "      <button class=\"colab-df-convert\" onclick=\"convertToInteractive('df-0519a34b-1319-4ad1-a17c-4c149fd5ec4d')\"\n",
              "              title=\"Convert this dataframe to an interactive table.\"\n",
              "              style=\"display:none;\">\n",
              "        \n",
              "  <svg xmlns=\"http://www.w3.org/2000/svg\" height=\"24px\"viewBox=\"0 0 24 24\"\n",
              "       width=\"24px\">\n",
              "    <path d=\"M0 0h24v24H0V0z\" fill=\"none\"/>\n",
              "    <path d=\"M18.56 5.44l.94 2.06.94-2.06 2.06-.94-2.06-.94-.94-2.06-.94 2.06-2.06.94zm-11 1L8.5 8.5l.94-2.06 2.06-.94-2.06-.94L8.5 2.5l-.94 2.06-2.06.94zm10 10l.94 2.06.94-2.06 2.06-.94-2.06-.94-.94-2.06-.94 2.06-2.06.94z\"/><path d=\"M17.41 7.96l-1.37-1.37c-.4-.4-.92-.59-1.43-.59-.52 0-1.04.2-1.43.59L10.3 9.45l-7.72 7.72c-.78.78-.78 2.05 0 2.83L4 21.41c.39.39.9.59 1.41.59.51 0 1.02-.2 1.41-.59l7.78-7.78 2.81-2.81c.8-.78.8-2.07 0-2.86zM5.41 20L4 18.59l7.72-7.72 1.47 1.35L5.41 20z\"/>\n",
              "  </svg>\n",
              "      </button>\n",
              "      \n",
              "  <style>\n",
              "    .colab-df-container {\n",
              "      display:flex;\n",
              "      flex-wrap:wrap;\n",
              "      gap: 12px;\n",
              "    }\n",
              "\n",
              "    .colab-df-convert {\n",
              "      background-color: #E8F0FE;\n",
              "      border: none;\n",
              "      border-radius: 50%;\n",
              "      cursor: pointer;\n",
              "      display: none;\n",
              "      fill: #1967D2;\n",
              "      height: 32px;\n",
              "      padding: 0 0 0 0;\n",
              "      width: 32px;\n",
              "    }\n",
              "\n",
              "    .colab-df-convert:hover {\n",
              "      background-color: #E2EBFA;\n",
              "      box-shadow: 0px 1px 2px rgba(60, 64, 67, 0.3), 0px 1px 3px 1px rgba(60, 64, 67, 0.15);\n",
              "      fill: #174EA6;\n",
              "    }\n",
              "\n",
              "    [theme=dark] .colab-df-convert {\n",
              "      background-color: #3B4455;\n",
              "      fill: #D2E3FC;\n",
              "    }\n",
              "\n",
              "    [theme=dark] .colab-df-convert:hover {\n",
              "      background-color: #434B5C;\n",
              "      box-shadow: 0px 1px 3px 1px rgba(0, 0, 0, 0.15);\n",
              "      filter: drop-shadow(0px 1px 2px rgba(0, 0, 0, 0.3));\n",
              "      fill: #FFFFFF;\n",
              "    }\n",
              "  </style>\n",
              "\n",
              "      <script>\n",
              "        const buttonEl =\n",
              "          document.querySelector('#df-0519a34b-1319-4ad1-a17c-4c149fd5ec4d button.colab-df-convert');\n",
              "        buttonEl.style.display =\n",
              "          google.colab.kernel.accessAllowed ? 'block' : 'none';\n",
              "\n",
              "        async function convertToInteractive(key) {\n",
              "          const element = document.querySelector('#df-0519a34b-1319-4ad1-a17c-4c149fd5ec4d');\n",
              "          const dataTable =\n",
              "            await google.colab.kernel.invokeFunction('convertToInteractive',\n",
              "                                                     [key], {});\n",
              "          if (!dataTable) return;\n",
              "\n",
              "          const docLinkHtml = 'Like what you see? Visit the ' +\n",
              "            '<a target=\"_blank\" href=https://colab.research.google.com/notebooks/data_table.ipynb>data table notebook</a>'\n",
              "            + ' to learn more about interactive tables.';\n",
              "          element.innerHTML = '';\n",
              "          dataTable['output_type'] = 'display_data';\n",
              "          await google.colab.output.renderOutput(dataTable, element);\n",
              "          const docLink = document.createElement('div');\n",
              "          docLink.innerHTML = docLinkHtml;\n",
              "          element.appendChild(docLink);\n",
              "        }\n",
              "      </script>\n",
              "    </div>\n",
              "  </div>\n",
              "  "
            ]
          },
          "metadata": {},
          "execution_count": 9
        }
      ],
      "source": [
        "df.isnull()"
      ]
    },
    {
      "cell_type": "code",
      "execution_count": 10,
      "id": "1ccaf561",
      "metadata": {
        "colab": {
          "base_uri": "https://localhost:8080/"
        },
        "id": "1ccaf561",
        "outputId": "04d7172c-ab8a-4817-e4b2-c9a6f01de761"
      },
      "outputs": [
        {
          "output_type": "execute_result",
          "data": {
            "text/plain": [
              "rec_id               0\n",
              "datetime             0\n",
              "season               0\n",
              "year                 0\n",
              "month                0\n",
              "holiday              0\n",
              "weekday              0\n",
              "workingday           0\n",
              "weather_condition    0\n",
              "temp                 0\n",
              "atemp                0\n",
              "humidity             0\n",
              "windspeed            0\n",
              "casual               0\n",
              "registered           0\n",
              "total_count          0\n",
              "dtype: int64"
            ]
          },
          "metadata": {},
          "execution_count": 10
        }
      ],
      "source": [
        "df.isnull().sum()"
      ]
    },
    {
      "cell_type": "code",
      "execution_count": 11,
      "id": "e2d80a0f",
      "metadata": {
        "id": "e2d80a0f"
      },
      "outputs": [],
      "source": [
        "df.drop([\"datetime\"],axis=1, inplace=True)"
      ]
    },
    {
      "cell_type": "code",
      "execution_count": 12,
      "id": "fb383c6a",
      "metadata": {
        "colab": {
          "base_uri": "https://localhost:8080/",
          "height": 270
        },
        "id": "fb383c6a",
        "outputId": "751a791e-93ab-4aab-8bed-9e0826012944"
      },
      "outputs": [
        {
          "output_type": "execute_result",
          "data": {
            "text/plain": [
              "   rec_id  season  year  month  holiday  weekday  workingday  \\\n",
              "0       1       1     0      1        0        6           0   \n",
              "1       2       1     0      1        0        0           0   \n",
              "2       3       1     0      1        0        1           1   \n",
              "3       4       1     0      1        0        2           1   \n",
              "4       5       1     0      1        0        3           1   \n",
              "\n",
              "   weather_condition      temp     atemp  humidity  windspeed  casual  \\\n",
              "0                  2  0.344167  0.363625  0.805833   0.160446     331   \n",
              "1                  2  0.363478  0.353739  0.696087   0.248539     131   \n",
              "2                  1  0.196364  0.189405  0.437273   0.248309     120   \n",
              "3                  1  0.200000  0.212122  0.590435   0.160296     108   \n",
              "4                  1  0.226957  0.229270  0.436957   0.186900      82   \n",
              "\n",
              "   registered  total_count  \n",
              "0         654          985  \n",
              "1         670          801  \n",
              "2        1229         1349  \n",
              "3        1454         1562  \n",
              "4        1518         1600  "
            ],
            "text/html": [
              "\n",
              "  <div id=\"df-780578a6-ec2e-4e90-937e-38de63593565\">\n",
              "    <div class=\"colab-df-container\">\n",
              "      <div>\n",
              "<style scoped>\n",
              "    .dataframe tbody tr th:only-of-type {\n",
              "        vertical-align: middle;\n",
              "    }\n",
              "\n",
              "    .dataframe tbody tr th {\n",
              "        vertical-align: top;\n",
              "    }\n",
              "\n",
              "    .dataframe thead th {\n",
              "        text-align: right;\n",
              "    }\n",
              "</style>\n",
              "<table border=\"1\" class=\"dataframe\">\n",
              "  <thead>\n",
              "    <tr style=\"text-align: right;\">\n",
              "      <th></th>\n",
              "      <th>rec_id</th>\n",
              "      <th>season</th>\n",
              "      <th>year</th>\n",
              "      <th>month</th>\n",
              "      <th>holiday</th>\n",
              "      <th>weekday</th>\n",
              "      <th>workingday</th>\n",
              "      <th>weather_condition</th>\n",
              "      <th>temp</th>\n",
              "      <th>atemp</th>\n",
              "      <th>humidity</th>\n",
              "      <th>windspeed</th>\n",
              "      <th>casual</th>\n",
              "      <th>registered</th>\n",
              "      <th>total_count</th>\n",
              "    </tr>\n",
              "  </thead>\n",
              "  <tbody>\n",
              "    <tr>\n",
              "      <th>0</th>\n",
              "      <td>1</td>\n",
              "      <td>1</td>\n",
              "      <td>0</td>\n",
              "      <td>1</td>\n",
              "      <td>0</td>\n",
              "      <td>6</td>\n",
              "      <td>0</td>\n",
              "      <td>2</td>\n",
              "      <td>0.344167</td>\n",
              "      <td>0.363625</td>\n",
              "      <td>0.805833</td>\n",
              "      <td>0.160446</td>\n",
              "      <td>331</td>\n",
              "      <td>654</td>\n",
              "      <td>985</td>\n",
              "    </tr>\n",
              "    <tr>\n",
              "      <th>1</th>\n",
              "      <td>2</td>\n",
              "      <td>1</td>\n",
              "      <td>0</td>\n",
              "      <td>1</td>\n",
              "      <td>0</td>\n",
              "      <td>0</td>\n",
              "      <td>0</td>\n",
              "      <td>2</td>\n",
              "      <td>0.363478</td>\n",
              "      <td>0.353739</td>\n",
              "      <td>0.696087</td>\n",
              "      <td>0.248539</td>\n",
              "      <td>131</td>\n",
              "      <td>670</td>\n",
              "      <td>801</td>\n",
              "    </tr>\n",
              "    <tr>\n",
              "      <th>2</th>\n",
              "      <td>3</td>\n",
              "      <td>1</td>\n",
              "      <td>0</td>\n",
              "      <td>1</td>\n",
              "      <td>0</td>\n",
              "      <td>1</td>\n",
              "      <td>1</td>\n",
              "      <td>1</td>\n",
              "      <td>0.196364</td>\n",
              "      <td>0.189405</td>\n",
              "      <td>0.437273</td>\n",
              "      <td>0.248309</td>\n",
              "      <td>120</td>\n",
              "      <td>1229</td>\n",
              "      <td>1349</td>\n",
              "    </tr>\n",
              "    <tr>\n",
              "      <th>3</th>\n",
              "      <td>4</td>\n",
              "      <td>1</td>\n",
              "      <td>0</td>\n",
              "      <td>1</td>\n",
              "      <td>0</td>\n",
              "      <td>2</td>\n",
              "      <td>1</td>\n",
              "      <td>1</td>\n",
              "      <td>0.200000</td>\n",
              "      <td>0.212122</td>\n",
              "      <td>0.590435</td>\n",
              "      <td>0.160296</td>\n",
              "      <td>108</td>\n",
              "      <td>1454</td>\n",
              "      <td>1562</td>\n",
              "    </tr>\n",
              "    <tr>\n",
              "      <th>4</th>\n",
              "      <td>5</td>\n",
              "      <td>1</td>\n",
              "      <td>0</td>\n",
              "      <td>1</td>\n",
              "      <td>0</td>\n",
              "      <td>3</td>\n",
              "      <td>1</td>\n",
              "      <td>1</td>\n",
              "      <td>0.226957</td>\n",
              "      <td>0.229270</td>\n",
              "      <td>0.436957</td>\n",
              "      <td>0.186900</td>\n",
              "      <td>82</td>\n",
              "      <td>1518</td>\n",
              "      <td>1600</td>\n",
              "    </tr>\n",
              "  </tbody>\n",
              "</table>\n",
              "</div>\n",
              "      <button class=\"colab-df-convert\" onclick=\"convertToInteractive('df-780578a6-ec2e-4e90-937e-38de63593565')\"\n",
              "              title=\"Convert this dataframe to an interactive table.\"\n",
              "              style=\"display:none;\">\n",
              "        \n",
              "  <svg xmlns=\"http://www.w3.org/2000/svg\" height=\"24px\"viewBox=\"0 0 24 24\"\n",
              "       width=\"24px\">\n",
              "    <path d=\"M0 0h24v24H0V0z\" fill=\"none\"/>\n",
              "    <path d=\"M18.56 5.44l.94 2.06.94-2.06 2.06-.94-2.06-.94-.94-2.06-.94 2.06-2.06.94zm-11 1L8.5 8.5l.94-2.06 2.06-.94-2.06-.94L8.5 2.5l-.94 2.06-2.06.94zm10 10l.94 2.06.94-2.06 2.06-.94-2.06-.94-.94-2.06-.94 2.06-2.06.94z\"/><path d=\"M17.41 7.96l-1.37-1.37c-.4-.4-.92-.59-1.43-.59-.52 0-1.04.2-1.43.59L10.3 9.45l-7.72 7.72c-.78.78-.78 2.05 0 2.83L4 21.41c.39.39.9.59 1.41.59.51 0 1.02-.2 1.41-.59l7.78-7.78 2.81-2.81c.8-.78.8-2.07 0-2.86zM5.41 20L4 18.59l7.72-7.72 1.47 1.35L5.41 20z\"/>\n",
              "  </svg>\n",
              "      </button>\n",
              "      \n",
              "  <style>\n",
              "    .colab-df-container {\n",
              "      display:flex;\n",
              "      flex-wrap:wrap;\n",
              "      gap: 12px;\n",
              "    }\n",
              "\n",
              "    .colab-df-convert {\n",
              "      background-color: #E8F0FE;\n",
              "      border: none;\n",
              "      border-radius: 50%;\n",
              "      cursor: pointer;\n",
              "      display: none;\n",
              "      fill: #1967D2;\n",
              "      height: 32px;\n",
              "      padding: 0 0 0 0;\n",
              "      width: 32px;\n",
              "    }\n",
              "\n",
              "    .colab-df-convert:hover {\n",
              "      background-color: #E2EBFA;\n",
              "      box-shadow: 0px 1px 2px rgba(60, 64, 67, 0.3), 0px 1px 3px 1px rgba(60, 64, 67, 0.15);\n",
              "      fill: #174EA6;\n",
              "    }\n",
              "\n",
              "    [theme=dark] .colab-df-convert {\n",
              "      background-color: #3B4455;\n",
              "      fill: #D2E3FC;\n",
              "    }\n",
              "\n",
              "    [theme=dark] .colab-df-convert:hover {\n",
              "      background-color: #434B5C;\n",
              "      box-shadow: 0px 1px 3px 1px rgba(0, 0, 0, 0.15);\n",
              "      filter: drop-shadow(0px 1px 2px rgba(0, 0, 0, 0.3));\n",
              "      fill: #FFFFFF;\n",
              "    }\n",
              "  </style>\n",
              "\n",
              "      <script>\n",
              "        const buttonEl =\n",
              "          document.querySelector('#df-780578a6-ec2e-4e90-937e-38de63593565 button.colab-df-convert');\n",
              "        buttonEl.style.display =\n",
              "          google.colab.kernel.accessAllowed ? 'block' : 'none';\n",
              "\n",
              "        async function convertToInteractive(key) {\n",
              "          const element = document.querySelector('#df-780578a6-ec2e-4e90-937e-38de63593565');\n",
              "          const dataTable =\n",
              "            await google.colab.kernel.invokeFunction('convertToInteractive',\n",
              "                                                     [key], {});\n",
              "          if (!dataTable) return;\n",
              "\n",
              "          const docLinkHtml = 'Like what you see? Visit the ' +\n",
              "            '<a target=\"_blank\" href=https://colab.research.google.com/notebooks/data_table.ipynb>data table notebook</a>'\n",
              "            + ' to learn more about interactive tables.';\n",
              "          element.innerHTML = '';\n",
              "          dataTable['output_type'] = 'display_data';\n",
              "          await google.colab.output.renderOutput(dataTable, element);\n",
              "          const docLink = document.createElement('div');\n",
              "          docLink.innerHTML = docLinkHtml;\n",
              "          element.appendChild(docLink);\n",
              "        }\n",
              "      </script>\n",
              "    </div>\n",
              "  </div>\n",
              "  "
            ]
          },
          "metadata": {},
          "execution_count": 12
        }
      ],
      "source": [
        "df.head()"
      ]
    },
    {
      "cell_type": "code",
      "source": [
        "df.columns"
      ],
      "metadata": {
        "colab": {
          "base_uri": "https://localhost:8080/"
        },
        "id": "MDBDWed7MBMs",
        "outputId": "cf0de819-25ac-4187-ee61-c4fcd9fb1193"
      },
      "id": "MDBDWed7MBMs",
      "execution_count": 13,
      "outputs": [
        {
          "output_type": "execute_result",
          "data": {
            "text/plain": [
              "Index(['rec_id', 'season', 'year', 'month', 'holiday', 'weekday', 'workingday',\n",
              "       'weather_condition', 'temp', 'atemp', 'humidity', 'windspeed', 'casual',\n",
              "       'registered', 'total_count'],\n",
              "      dtype='object')"
            ]
          },
          "metadata": {},
          "execution_count": 13
        }
      ]
    },
    {
      "cell_type": "code",
      "execution_count": 14,
      "id": "44340424",
      "metadata": {
        "colab": {
          "base_uri": "https://localhost:8080/",
          "height": 364
        },
        "id": "44340424",
        "outputId": "27fd3230-3bfa-4766-ff44-3ebbac3e63e9",
        "scrolled": true
      },
      "outputs": [
        {
          "output_type": "execute_result",
          "data": {
            "text/plain": [
              "           rec_id      season        year       month     holiday     weekday  \\\n",
              "count  731.000000  731.000000  731.000000  731.000000  731.000000  731.000000   \n",
              "mean   366.000000    2.496580    0.500684    6.519836    0.028728    2.997264   \n",
              "std    211.165812    1.110807    0.500342    3.451913    0.167155    2.004787   \n",
              "min      1.000000    1.000000    0.000000    1.000000    0.000000    0.000000   \n",
              "25%    183.500000    2.000000    0.000000    4.000000    0.000000    1.000000   \n",
              "50%    366.000000    3.000000    1.000000    7.000000    0.000000    3.000000   \n",
              "75%    548.500000    3.000000    1.000000   10.000000    0.000000    5.000000   \n",
              "max    731.000000    4.000000    1.000000   12.000000    1.000000    6.000000   \n",
              "\n",
              "       workingday  weather_condition        temp       atemp    humidity  \\\n",
              "count  731.000000         731.000000  731.000000  731.000000  731.000000   \n",
              "mean     0.683995           1.395349    0.495385    0.474354    0.627894   \n",
              "std      0.465233           0.544894    0.183051    0.162961    0.142429   \n",
              "min      0.000000           1.000000    0.059130    0.079070    0.000000   \n",
              "25%      0.000000           1.000000    0.337083    0.337842    0.520000   \n",
              "50%      1.000000           1.000000    0.498333    0.486733    0.626667   \n",
              "75%      1.000000           2.000000    0.655417    0.608602    0.730209   \n",
              "max      1.000000           3.000000    0.861667    0.840896    0.972500   \n",
              "\n",
              "        windspeed       casual   registered  total_count  \n",
              "count  731.000000   731.000000   731.000000   731.000000  \n",
              "mean     0.190486   848.176471  3656.172367  4504.348837  \n",
              "std      0.077498   686.622488  1560.256377  1937.211452  \n",
              "min      0.022392     2.000000    20.000000    22.000000  \n",
              "25%      0.134950   315.500000  2497.000000  3152.000000  \n",
              "50%      0.180975   713.000000  3662.000000  4548.000000  \n",
              "75%      0.233214  1096.000000  4776.500000  5956.000000  \n",
              "max      0.507463  3410.000000  6946.000000  8714.000000  "
            ],
            "text/html": [
              "\n",
              "  <div id=\"df-52d8a098-97f5-46b1-b0bd-835c3d950a9a\">\n",
              "    <div class=\"colab-df-container\">\n",
              "      <div>\n",
              "<style scoped>\n",
              "    .dataframe tbody tr th:only-of-type {\n",
              "        vertical-align: middle;\n",
              "    }\n",
              "\n",
              "    .dataframe tbody tr th {\n",
              "        vertical-align: top;\n",
              "    }\n",
              "\n",
              "    .dataframe thead th {\n",
              "        text-align: right;\n",
              "    }\n",
              "</style>\n",
              "<table border=\"1\" class=\"dataframe\">\n",
              "  <thead>\n",
              "    <tr style=\"text-align: right;\">\n",
              "      <th></th>\n",
              "      <th>rec_id</th>\n",
              "      <th>season</th>\n",
              "      <th>year</th>\n",
              "      <th>month</th>\n",
              "      <th>holiday</th>\n",
              "      <th>weekday</th>\n",
              "      <th>workingday</th>\n",
              "      <th>weather_condition</th>\n",
              "      <th>temp</th>\n",
              "      <th>atemp</th>\n",
              "      <th>humidity</th>\n",
              "      <th>windspeed</th>\n",
              "      <th>casual</th>\n",
              "      <th>registered</th>\n",
              "      <th>total_count</th>\n",
              "    </tr>\n",
              "  </thead>\n",
              "  <tbody>\n",
              "    <tr>\n",
              "      <th>count</th>\n",
              "      <td>731.000000</td>\n",
              "      <td>731.000000</td>\n",
              "      <td>731.000000</td>\n",
              "      <td>731.000000</td>\n",
              "      <td>731.000000</td>\n",
              "      <td>731.000000</td>\n",
              "      <td>731.000000</td>\n",
              "      <td>731.000000</td>\n",
              "      <td>731.000000</td>\n",
              "      <td>731.000000</td>\n",
              "      <td>731.000000</td>\n",
              "      <td>731.000000</td>\n",
              "      <td>731.000000</td>\n",
              "      <td>731.000000</td>\n",
              "      <td>731.000000</td>\n",
              "    </tr>\n",
              "    <tr>\n",
              "      <th>mean</th>\n",
              "      <td>366.000000</td>\n",
              "      <td>2.496580</td>\n",
              "      <td>0.500684</td>\n",
              "      <td>6.519836</td>\n",
              "      <td>0.028728</td>\n",
              "      <td>2.997264</td>\n",
              "      <td>0.683995</td>\n",
              "      <td>1.395349</td>\n",
              "      <td>0.495385</td>\n",
              "      <td>0.474354</td>\n",
              "      <td>0.627894</td>\n",
              "      <td>0.190486</td>\n",
              "      <td>848.176471</td>\n",
              "      <td>3656.172367</td>\n",
              "      <td>4504.348837</td>\n",
              "    </tr>\n",
              "    <tr>\n",
              "      <th>std</th>\n",
              "      <td>211.165812</td>\n",
              "      <td>1.110807</td>\n",
              "      <td>0.500342</td>\n",
              "      <td>3.451913</td>\n",
              "      <td>0.167155</td>\n",
              "      <td>2.004787</td>\n",
              "      <td>0.465233</td>\n",
              "      <td>0.544894</td>\n",
              "      <td>0.183051</td>\n",
              "      <td>0.162961</td>\n",
              "      <td>0.142429</td>\n",
              "      <td>0.077498</td>\n",
              "      <td>686.622488</td>\n",
              "      <td>1560.256377</td>\n",
              "      <td>1937.211452</td>\n",
              "    </tr>\n",
              "    <tr>\n",
              "      <th>min</th>\n",
              "      <td>1.000000</td>\n",
              "      <td>1.000000</td>\n",
              "      <td>0.000000</td>\n",
              "      <td>1.000000</td>\n",
              "      <td>0.000000</td>\n",
              "      <td>0.000000</td>\n",
              "      <td>0.000000</td>\n",
              "      <td>1.000000</td>\n",
              "      <td>0.059130</td>\n",
              "      <td>0.079070</td>\n",
              "      <td>0.000000</td>\n",
              "      <td>0.022392</td>\n",
              "      <td>2.000000</td>\n",
              "      <td>20.000000</td>\n",
              "      <td>22.000000</td>\n",
              "    </tr>\n",
              "    <tr>\n",
              "      <th>25%</th>\n",
              "      <td>183.500000</td>\n",
              "      <td>2.000000</td>\n",
              "      <td>0.000000</td>\n",
              "      <td>4.000000</td>\n",
              "      <td>0.000000</td>\n",
              "      <td>1.000000</td>\n",
              "      <td>0.000000</td>\n",
              "      <td>1.000000</td>\n",
              "      <td>0.337083</td>\n",
              "      <td>0.337842</td>\n",
              "      <td>0.520000</td>\n",
              "      <td>0.134950</td>\n",
              "      <td>315.500000</td>\n",
              "      <td>2497.000000</td>\n",
              "      <td>3152.000000</td>\n",
              "    </tr>\n",
              "    <tr>\n",
              "      <th>50%</th>\n",
              "      <td>366.000000</td>\n",
              "      <td>3.000000</td>\n",
              "      <td>1.000000</td>\n",
              "      <td>7.000000</td>\n",
              "      <td>0.000000</td>\n",
              "      <td>3.000000</td>\n",
              "      <td>1.000000</td>\n",
              "      <td>1.000000</td>\n",
              "      <td>0.498333</td>\n",
              "      <td>0.486733</td>\n",
              "      <td>0.626667</td>\n",
              "      <td>0.180975</td>\n",
              "      <td>713.000000</td>\n",
              "      <td>3662.000000</td>\n",
              "      <td>4548.000000</td>\n",
              "    </tr>\n",
              "    <tr>\n",
              "      <th>75%</th>\n",
              "      <td>548.500000</td>\n",
              "      <td>3.000000</td>\n",
              "      <td>1.000000</td>\n",
              "      <td>10.000000</td>\n",
              "      <td>0.000000</td>\n",
              "      <td>5.000000</td>\n",
              "      <td>1.000000</td>\n",
              "      <td>2.000000</td>\n",
              "      <td>0.655417</td>\n",
              "      <td>0.608602</td>\n",
              "      <td>0.730209</td>\n",
              "      <td>0.233214</td>\n",
              "      <td>1096.000000</td>\n",
              "      <td>4776.500000</td>\n",
              "      <td>5956.000000</td>\n",
              "    </tr>\n",
              "    <tr>\n",
              "      <th>max</th>\n",
              "      <td>731.000000</td>\n",
              "      <td>4.000000</td>\n",
              "      <td>1.000000</td>\n",
              "      <td>12.000000</td>\n",
              "      <td>1.000000</td>\n",
              "      <td>6.000000</td>\n",
              "      <td>1.000000</td>\n",
              "      <td>3.000000</td>\n",
              "      <td>0.861667</td>\n",
              "      <td>0.840896</td>\n",
              "      <td>0.972500</td>\n",
              "      <td>0.507463</td>\n",
              "      <td>3410.000000</td>\n",
              "      <td>6946.000000</td>\n",
              "      <td>8714.000000</td>\n",
              "    </tr>\n",
              "  </tbody>\n",
              "</table>\n",
              "</div>\n",
              "      <button class=\"colab-df-convert\" onclick=\"convertToInteractive('df-52d8a098-97f5-46b1-b0bd-835c3d950a9a')\"\n",
              "              title=\"Convert this dataframe to an interactive table.\"\n",
              "              style=\"display:none;\">\n",
              "        \n",
              "  <svg xmlns=\"http://www.w3.org/2000/svg\" height=\"24px\"viewBox=\"0 0 24 24\"\n",
              "       width=\"24px\">\n",
              "    <path d=\"M0 0h24v24H0V0z\" fill=\"none\"/>\n",
              "    <path d=\"M18.56 5.44l.94 2.06.94-2.06 2.06-.94-2.06-.94-.94-2.06-.94 2.06-2.06.94zm-11 1L8.5 8.5l.94-2.06 2.06-.94-2.06-.94L8.5 2.5l-.94 2.06-2.06.94zm10 10l.94 2.06.94-2.06 2.06-.94-2.06-.94-.94-2.06-.94 2.06-2.06.94z\"/><path d=\"M17.41 7.96l-1.37-1.37c-.4-.4-.92-.59-1.43-.59-.52 0-1.04.2-1.43.59L10.3 9.45l-7.72 7.72c-.78.78-.78 2.05 0 2.83L4 21.41c.39.39.9.59 1.41.59.51 0 1.02-.2 1.41-.59l7.78-7.78 2.81-2.81c.8-.78.8-2.07 0-2.86zM5.41 20L4 18.59l7.72-7.72 1.47 1.35L5.41 20z\"/>\n",
              "  </svg>\n",
              "      </button>\n",
              "      \n",
              "  <style>\n",
              "    .colab-df-container {\n",
              "      display:flex;\n",
              "      flex-wrap:wrap;\n",
              "      gap: 12px;\n",
              "    }\n",
              "\n",
              "    .colab-df-convert {\n",
              "      background-color: #E8F0FE;\n",
              "      border: none;\n",
              "      border-radius: 50%;\n",
              "      cursor: pointer;\n",
              "      display: none;\n",
              "      fill: #1967D2;\n",
              "      height: 32px;\n",
              "      padding: 0 0 0 0;\n",
              "      width: 32px;\n",
              "    }\n",
              "\n",
              "    .colab-df-convert:hover {\n",
              "      background-color: #E2EBFA;\n",
              "      box-shadow: 0px 1px 2px rgba(60, 64, 67, 0.3), 0px 1px 3px 1px rgba(60, 64, 67, 0.15);\n",
              "      fill: #174EA6;\n",
              "    }\n",
              "\n",
              "    [theme=dark] .colab-df-convert {\n",
              "      background-color: #3B4455;\n",
              "      fill: #D2E3FC;\n",
              "    }\n",
              "\n",
              "    [theme=dark] .colab-df-convert:hover {\n",
              "      background-color: #434B5C;\n",
              "      box-shadow: 0px 1px 3px 1px rgba(0, 0, 0, 0.15);\n",
              "      filter: drop-shadow(0px 1px 2px rgba(0, 0, 0, 0.3));\n",
              "      fill: #FFFFFF;\n",
              "    }\n",
              "  </style>\n",
              "\n",
              "      <script>\n",
              "        const buttonEl =\n",
              "          document.querySelector('#df-52d8a098-97f5-46b1-b0bd-835c3d950a9a button.colab-df-convert');\n",
              "        buttonEl.style.display =\n",
              "          google.colab.kernel.accessAllowed ? 'block' : 'none';\n",
              "\n",
              "        async function convertToInteractive(key) {\n",
              "          const element = document.querySelector('#df-52d8a098-97f5-46b1-b0bd-835c3d950a9a');\n",
              "          const dataTable =\n",
              "            await google.colab.kernel.invokeFunction('convertToInteractive',\n",
              "                                                     [key], {});\n",
              "          if (!dataTable) return;\n",
              "\n",
              "          const docLinkHtml = 'Like what you see? Visit the ' +\n",
              "            '<a target=\"_blank\" href=https://colab.research.google.com/notebooks/data_table.ipynb>data table notebook</a>'\n",
              "            + ' to learn more about interactive tables.';\n",
              "          element.innerHTML = '';\n",
              "          dataTable['output_type'] = 'display_data';\n",
              "          await google.colab.output.renderOutput(dataTable, element);\n",
              "          const docLink = document.createElement('div');\n",
              "          docLink.innerHTML = docLinkHtml;\n",
              "          element.appendChild(docLink);\n",
              "        }\n",
              "      </script>\n",
              "    </div>\n",
              "  </div>\n",
              "  "
            ]
          },
          "metadata": {},
          "execution_count": 14
        }
      ],
      "source": [
        "# Check the  Statistical Numerical Data Distribution Summary\n",
        "df.describe()"
      ]
    },
    {
      "cell_type": "code",
      "execution_count": 15,
      "id": "70da1672",
      "metadata": {
        "colab": {
          "base_uri": "https://localhost:8080/",
          "height": 583
        },
        "id": "70da1672",
        "outputId": "1fbf8931-99d0-4b74-831c-ba9830188d43"
      },
      "outputs": [
        {
          "output_type": "execute_result",
          "data": {
            "text/plain": [
              "                     rec_id    season      year     month   holiday   weekday  \\\n",
              "rec_id             1.000000  0.412224  0.866025  0.496702  0.016145 -0.000016   \n",
              "season             0.412224  1.000000 -0.001844  0.831440 -0.010537 -0.003080   \n",
              "year               0.866025 -0.001844  1.000000 -0.001792  0.007954 -0.005461   \n",
              "month              0.496702  0.831440 -0.001792  1.000000  0.019191  0.009509   \n",
              "holiday            0.016145 -0.010537  0.007954  0.019191  1.000000 -0.101960   \n",
              "weekday           -0.000016 -0.003080 -0.005461  0.009509 -0.101960  1.000000   \n",
              "workingday        -0.004337  0.012485 -0.002013 -0.005901 -0.253023  0.035790   \n",
              "weather_condition -0.021477  0.019211 -0.048727  0.043528 -0.034627  0.031087   \n",
              "temp               0.150580  0.334315  0.047604  0.220205 -0.028556 -0.000170   \n",
              "atemp              0.152638  0.342876  0.046106  0.227459 -0.032507 -0.007537   \n",
              "humidity           0.016375  0.205445 -0.110651  0.222204 -0.015937 -0.052232   \n",
              "windspeed         -0.112620 -0.229046 -0.011817 -0.207502  0.006292  0.014282   \n",
              "casual             0.275255  0.210399  0.248546  0.123006  0.054274  0.059923   \n",
              "registered         0.659623  0.411623  0.594248  0.293488 -0.108745  0.057367   \n",
              "total_count        0.628830  0.406100  0.566710  0.279977 -0.068348  0.067443   \n",
              "\n",
              "                   workingday  weather_condition      temp     atemp  \\\n",
              "rec_id              -0.004337          -0.021477  0.150580  0.152638   \n",
              "season               0.012485           0.019211  0.334315  0.342876   \n",
              "year                -0.002013          -0.048727  0.047604  0.046106   \n",
              "month               -0.005901           0.043528  0.220205  0.227459   \n",
              "holiday             -0.253023          -0.034627 -0.028556 -0.032507   \n",
              "weekday              0.035790           0.031087 -0.000170 -0.007537   \n",
              "workingday           1.000000           0.061200  0.052660  0.052182   \n",
              "weather_condition    0.061200           1.000000 -0.120602 -0.121583   \n",
              "temp                 0.052660          -0.120602  1.000000  0.991702   \n",
              "atemp                0.052182          -0.121583  0.991702  1.000000   \n",
              "humidity             0.024327           0.591045  0.126963  0.139988   \n",
              "windspeed           -0.018796           0.039511 -0.157944 -0.183643   \n",
              "casual              -0.518044          -0.247353  0.543285  0.543864   \n",
              "registered           0.303907          -0.260388  0.540012  0.544192   \n",
              "total_count          0.061156          -0.297391  0.627494  0.631066   \n",
              "\n",
              "                   humidity  windspeed    casual  registered  total_count  \n",
              "rec_id             0.016375  -0.112620  0.275255    0.659623     0.628830  \n",
              "season             0.205445  -0.229046  0.210399    0.411623     0.406100  \n",
              "year              -0.110651  -0.011817  0.248546    0.594248     0.566710  \n",
              "month              0.222204  -0.207502  0.123006    0.293488     0.279977  \n",
              "holiday           -0.015937   0.006292  0.054274   -0.108745    -0.068348  \n",
              "weekday           -0.052232   0.014282  0.059923    0.057367     0.067443  \n",
              "workingday         0.024327  -0.018796 -0.518044    0.303907     0.061156  \n",
              "weather_condition  0.591045   0.039511 -0.247353   -0.260388    -0.297391  \n",
              "temp               0.126963  -0.157944  0.543285    0.540012     0.627494  \n",
              "atemp              0.139988  -0.183643  0.543864    0.544192     0.631066  \n",
              "humidity           1.000000  -0.248489 -0.077008   -0.091089    -0.100659  \n",
              "windspeed         -0.248489   1.000000 -0.167613   -0.217449    -0.234545  \n",
              "casual            -0.077008  -0.167613  1.000000    0.395282     0.672804  \n",
              "registered        -0.091089  -0.217449  0.395282    1.000000     0.945517  \n",
              "total_count       -0.100659  -0.234545  0.672804    0.945517     1.000000  "
            ],
            "text/html": [
              "\n",
              "  <div id=\"df-b6be6ca3-5624-4285-8785-1514db6b092c\">\n",
              "    <div class=\"colab-df-container\">\n",
              "      <div>\n",
              "<style scoped>\n",
              "    .dataframe tbody tr th:only-of-type {\n",
              "        vertical-align: middle;\n",
              "    }\n",
              "\n",
              "    .dataframe tbody tr th {\n",
              "        vertical-align: top;\n",
              "    }\n",
              "\n",
              "    .dataframe thead th {\n",
              "        text-align: right;\n",
              "    }\n",
              "</style>\n",
              "<table border=\"1\" class=\"dataframe\">\n",
              "  <thead>\n",
              "    <tr style=\"text-align: right;\">\n",
              "      <th></th>\n",
              "      <th>rec_id</th>\n",
              "      <th>season</th>\n",
              "      <th>year</th>\n",
              "      <th>month</th>\n",
              "      <th>holiday</th>\n",
              "      <th>weekday</th>\n",
              "      <th>workingday</th>\n",
              "      <th>weather_condition</th>\n",
              "      <th>temp</th>\n",
              "      <th>atemp</th>\n",
              "      <th>humidity</th>\n",
              "      <th>windspeed</th>\n",
              "      <th>casual</th>\n",
              "      <th>registered</th>\n",
              "      <th>total_count</th>\n",
              "    </tr>\n",
              "  </thead>\n",
              "  <tbody>\n",
              "    <tr>\n",
              "      <th>rec_id</th>\n",
              "      <td>1.000000</td>\n",
              "      <td>0.412224</td>\n",
              "      <td>0.866025</td>\n",
              "      <td>0.496702</td>\n",
              "      <td>0.016145</td>\n",
              "      <td>-0.000016</td>\n",
              "      <td>-0.004337</td>\n",
              "      <td>-0.021477</td>\n",
              "      <td>0.150580</td>\n",
              "      <td>0.152638</td>\n",
              "      <td>0.016375</td>\n",
              "      <td>-0.112620</td>\n",
              "      <td>0.275255</td>\n",
              "      <td>0.659623</td>\n",
              "      <td>0.628830</td>\n",
              "    </tr>\n",
              "    <tr>\n",
              "      <th>season</th>\n",
              "      <td>0.412224</td>\n",
              "      <td>1.000000</td>\n",
              "      <td>-0.001844</td>\n",
              "      <td>0.831440</td>\n",
              "      <td>-0.010537</td>\n",
              "      <td>-0.003080</td>\n",
              "      <td>0.012485</td>\n",
              "      <td>0.019211</td>\n",
              "      <td>0.334315</td>\n",
              "      <td>0.342876</td>\n",
              "      <td>0.205445</td>\n",
              "      <td>-0.229046</td>\n",
              "      <td>0.210399</td>\n",
              "      <td>0.411623</td>\n",
              "      <td>0.406100</td>\n",
              "    </tr>\n",
              "    <tr>\n",
              "      <th>year</th>\n",
              "      <td>0.866025</td>\n",
              "      <td>-0.001844</td>\n",
              "      <td>1.000000</td>\n",
              "      <td>-0.001792</td>\n",
              "      <td>0.007954</td>\n",
              "      <td>-0.005461</td>\n",
              "      <td>-0.002013</td>\n",
              "      <td>-0.048727</td>\n",
              "      <td>0.047604</td>\n",
              "      <td>0.046106</td>\n",
              "      <td>-0.110651</td>\n",
              "      <td>-0.011817</td>\n",
              "      <td>0.248546</td>\n",
              "      <td>0.594248</td>\n",
              "      <td>0.566710</td>\n",
              "    </tr>\n",
              "    <tr>\n",
              "      <th>month</th>\n",
              "      <td>0.496702</td>\n",
              "      <td>0.831440</td>\n",
              "      <td>-0.001792</td>\n",
              "      <td>1.000000</td>\n",
              "      <td>0.019191</td>\n",
              "      <td>0.009509</td>\n",
              "      <td>-0.005901</td>\n",
              "      <td>0.043528</td>\n",
              "      <td>0.220205</td>\n",
              "      <td>0.227459</td>\n",
              "      <td>0.222204</td>\n",
              "      <td>-0.207502</td>\n",
              "      <td>0.123006</td>\n",
              "      <td>0.293488</td>\n",
              "      <td>0.279977</td>\n",
              "    </tr>\n",
              "    <tr>\n",
              "      <th>holiday</th>\n",
              "      <td>0.016145</td>\n",
              "      <td>-0.010537</td>\n",
              "      <td>0.007954</td>\n",
              "      <td>0.019191</td>\n",
              "      <td>1.000000</td>\n",
              "      <td>-0.101960</td>\n",
              "      <td>-0.253023</td>\n",
              "      <td>-0.034627</td>\n",
              "      <td>-0.028556</td>\n",
              "      <td>-0.032507</td>\n",
              "      <td>-0.015937</td>\n",
              "      <td>0.006292</td>\n",
              "      <td>0.054274</td>\n",
              "      <td>-0.108745</td>\n",
              "      <td>-0.068348</td>\n",
              "    </tr>\n",
              "    <tr>\n",
              "      <th>weekday</th>\n",
              "      <td>-0.000016</td>\n",
              "      <td>-0.003080</td>\n",
              "      <td>-0.005461</td>\n",
              "      <td>0.009509</td>\n",
              "      <td>-0.101960</td>\n",
              "      <td>1.000000</td>\n",
              "      <td>0.035790</td>\n",
              "      <td>0.031087</td>\n",
              "      <td>-0.000170</td>\n",
              "      <td>-0.007537</td>\n",
              "      <td>-0.052232</td>\n",
              "      <td>0.014282</td>\n",
              "      <td>0.059923</td>\n",
              "      <td>0.057367</td>\n",
              "      <td>0.067443</td>\n",
              "    </tr>\n",
              "    <tr>\n",
              "      <th>workingday</th>\n",
              "      <td>-0.004337</td>\n",
              "      <td>0.012485</td>\n",
              "      <td>-0.002013</td>\n",
              "      <td>-0.005901</td>\n",
              "      <td>-0.253023</td>\n",
              "      <td>0.035790</td>\n",
              "      <td>1.000000</td>\n",
              "      <td>0.061200</td>\n",
              "      <td>0.052660</td>\n",
              "      <td>0.052182</td>\n",
              "      <td>0.024327</td>\n",
              "      <td>-0.018796</td>\n",
              "      <td>-0.518044</td>\n",
              "      <td>0.303907</td>\n",
              "      <td>0.061156</td>\n",
              "    </tr>\n",
              "    <tr>\n",
              "      <th>weather_condition</th>\n",
              "      <td>-0.021477</td>\n",
              "      <td>0.019211</td>\n",
              "      <td>-0.048727</td>\n",
              "      <td>0.043528</td>\n",
              "      <td>-0.034627</td>\n",
              "      <td>0.031087</td>\n",
              "      <td>0.061200</td>\n",
              "      <td>1.000000</td>\n",
              "      <td>-0.120602</td>\n",
              "      <td>-0.121583</td>\n",
              "      <td>0.591045</td>\n",
              "      <td>0.039511</td>\n",
              "      <td>-0.247353</td>\n",
              "      <td>-0.260388</td>\n",
              "      <td>-0.297391</td>\n",
              "    </tr>\n",
              "    <tr>\n",
              "      <th>temp</th>\n",
              "      <td>0.150580</td>\n",
              "      <td>0.334315</td>\n",
              "      <td>0.047604</td>\n",
              "      <td>0.220205</td>\n",
              "      <td>-0.028556</td>\n",
              "      <td>-0.000170</td>\n",
              "      <td>0.052660</td>\n",
              "      <td>-0.120602</td>\n",
              "      <td>1.000000</td>\n",
              "      <td>0.991702</td>\n",
              "      <td>0.126963</td>\n",
              "      <td>-0.157944</td>\n",
              "      <td>0.543285</td>\n",
              "      <td>0.540012</td>\n",
              "      <td>0.627494</td>\n",
              "    </tr>\n",
              "    <tr>\n",
              "      <th>atemp</th>\n",
              "      <td>0.152638</td>\n",
              "      <td>0.342876</td>\n",
              "      <td>0.046106</td>\n",
              "      <td>0.227459</td>\n",
              "      <td>-0.032507</td>\n",
              "      <td>-0.007537</td>\n",
              "      <td>0.052182</td>\n",
              "      <td>-0.121583</td>\n",
              "      <td>0.991702</td>\n",
              "      <td>1.000000</td>\n",
              "      <td>0.139988</td>\n",
              "      <td>-0.183643</td>\n",
              "      <td>0.543864</td>\n",
              "      <td>0.544192</td>\n",
              "      <td>0.631066</td>\n",
              "    </tr>\n",
              "    <tr>\n",
              "      <th>humidity</th>\n",
              "      <td>0.016375</td>\n",
              "      <td>0.205445</td>\n",
              "      <td>-0.110651</td>\n",
              "      <td>0.222204</td>\n",
              "      <td>-0.015937</td>\n",
              "      <td>-0.052232</td>\n",
              "      <td>0.024327</td>\n",
              "      <td>0.591045</td>\n",
              "      <td>0.126963</td>\n",
              "      <td>0.139988</td>\n",
              "      <td>1.000000</td>\n",
              "      <td>-0.248489</td>\n",
              "      <td>-0.077008</td>\n",
              "      <td>-0.091089</td>\n",
              "      <td>-0.100659</td>\n",
              "    </tr>\n",
              "    <tr>\n",
              "      <th>windspeed</th>\n",
              "      <td>-0.112620</td>\n",
              "      <td>-0.229046</td>\n",
              "      <td>-0.011817</td>\n",
              "      <td>-0.207502</td>\n",
              "      <td>0.006292</td>\n",
              "      <td>0.014282</td>\n",
              "      <td>-0.018796</td>\n",
              "      <td>0.039511</td>\n",
              "      <td>-0.157944</td>\n",
              "      <td>-0.183643</td>\n",
              "      <td>-0.248489</td>\n",
              "      <td>1.000000</td>\n",
              "      <td>-0.167613</td>\n",
              "      <td>-0.217449</td>\n",
              "      <td>-0.234545</td>\n",
              "    </tr>\n",
              "    <tr>\n",
              "      <th>casual</th>\n",
              "      <td>0.275255</td>\n",
              "      <td>0.210399</td>\n",
              "      <td>0.248546</td>\n",
              "      <td>0.123006</td>\n",
              "      <td>0.054274</td>\n",
              "      <td>0.059923</td>\n",
              "      <td>-0.518044</td>\n",
              "      <td>-0.247353</td>\n",
              "      <td>0.543285</td>\n",
              "      <td>0.543864</td>\n",
              "      <td>-0.077008</td>\n",
              "      <td>-0.167613</td>\n",
              "      <td>1.000000</td>\n",
              "      <td>0.395282</td>\n",
              "      <td>0.672804</td>\n",
              "    </tr>\n",
              "    <tr>\n",
              "      <th>registered</th>\n",
              "      <td>0.659623</td>\n",
              "      <td>0.411623</td>\n",
              "      <td>0.594248</td>\n",
              "      <td>0.293488</td>\n",
              "      <td>-0.108745</td>\n",
              "      <td>0.057367</td>\n",
              "      <td>0.303907</td>\n",
              "      <td>-0.260388</td>\n",
              "      <td>0.540012</td>\n",
              "      <td>0.544192</td>\n",
              "      <td>-0.091089</td>\n",
              "      <td>-0.217449</td>\n",
              "      <td>0.395282</td>\n",
              "      <td>1.000000</td>\n",
              "      <td>0.945517</td>\n",
              "    </tr>\n",
              "    <tr>\n",
              "      <th>total_count</th>\n",
              "      <td>0.628830</td>\n",
              "      <td>0.406100</td>\n",
              "      <td>0.566710</td>\n",
              "      <td>0.279977</td>\n",
              "      <td>-0.068348</td>\n",
              "      <td>0.067443</td>\n",
              "      <td>0.061156</td>\n",
              "      <td>-0.297391</td>\n",
              "      <td>0.627494</td>\n",
              "      <td>0.631066</td>\n",
              "      <td>-0.100659</td>\n",
              "      <td>-0.234545</td>\n",
              "      <td>0.672804</td>\n",
              "      <td>0.945517</td>\n",
              "      <td>1.000000</td>\n",
              "    </tr>\n",
              "  </tbody>\n",
              "</table>\n",
              "</div>\n",
              "      <button class=\"colab-df-convert\" onclick=\"convertToInteractive('df-b6be6ca3-5624-4285-8785-1514db6b092c')\"\n",
              "              title=\"Convert this dataframe to an interactive table.\"\n",
              "              style=\"display:none;\">\n",
              "        \n",
              "  <svg xmlns=\"http://www.w3.org/2000/svg\" height=\"24px\"viewBox=\"0 0 24 24\"\n",
              "       width=\"24px\">\n",
              "    <path d=\"M0 0h24v24H0V0z\" fill=\"none\"/>\n",
              "    <path d=\"M18.56 5.44l.94 2.06.94-2.06 2.06-.94-2.06-.94-.94-2.06-.94 2.06-2.06.94zm-11 1L8.5 8.5l.94-2.06 2.06-.94-2.06-.94L8.5 2.5l-.94 2.06-2.06.94zm10 10l.94 2.06.94-2.06 2.06-.94-2.06-.94-.94-2.06-.94 2.06-2.06.94z\"/><path d=\"M17.41 7.96l-1.37-1.37c-.4-.4-.92-.59-1.43-.59-.52 0-1.04.2-1.43.59L10.3 9.45l-7.72 7.72c-.78.78-.78 2.05 0 2.83L4 21.41c.39.39.9.59 1.41.59.51 0 1.02-.2 1.41-.59l7.78-7.78 2.81-2.81c.8-.78.8-2.07 0-2.86zM5.41 20L4 18.59l7.72-7.72 1.47 1.35L5.41 20z\"/>\n",
              "  </svg>\n",
              "      </button>\n",
              "      \n",
              "  <style>\n",
              "    .colab-df-container {\n",
              "      display:flex;\n",
              "      flex-wrap:wrap;\n",
              "      gap: 12px;\n",
              "    }\n",
              "\n",
              "    .colab-df-convert {\n",
              "      background-color: #E8F0FE;\n",
              "      border: none;\n",
              "      border-radius: 50%;\n",
              "      cursor: pointer;\n",
              "      display: none;\n",
              "      fill: #1967D2;\n",
              "      height: 32px;\n",
              "      padding: 0 0 0 0;\n",
              "      width: 32px;\n",
              "    }\n",
              "\n",
              "    .colab-df-convert:hover {\n",
              "      background-color: #E2EBFA;\n",
              "      box-shadow: 0px 1px 2px rgba(60, 64, 67, 0.3), 0px 1px 3px 1px rgba(60, 64, 67, 0.15);\n",
              "      fill: #174EA6;\n",
              "    }\n",
              "\n",
              "    [theme=dark] .colab-df-convert {\n",
              "      background-color: #3B4455;\n",
              "      fill: #D2E3FC;\n",
              "    }\n",
              "\n",
              "    [theme=dark] .colab-df-convert:hover {\n",
              "      background-color: #434B5C;\n",
              "      box-shadow: 0px 1px 3px 1px rgba(0, 0, 0, 0.15);\n",
              "      filter: drop-shadow(0px 1px 2px rgba(0, 0, 0, 0.3));\n",
              "      fill: #FFFFFF;\n",
              "    }\n",
              "  </style>\n",
              "\n",
              "      <script>\n",
              "        const buttonEl =\n",
              "          document.querySelector('#df-b6be6ca3-5624-4285-8785-1514db6b092c button.colab-df-convert');\n",
              "        buttonEl.style.display =\n",
              "          google.colab.kernel.accessAllowed ? 'block' : 'none';\n",
              "\n",
              "        async function convertToInteractive(key) {\n",
              "          const element = document.querySelector('#df-b6be6ca3-5624-4285-8785-1514db6b092c');\n",
              "          const dataTable =\n",
              "            await google.colab.kernel.invokeFunction('convertToInteractive',\n",
              "                                                     [key], {});\n",
              "          if (!dataTable) return;\n",
              "\n",
              "          const docLinkHtml = 'Like what you see? Visit the ' +\n",
              "            '<a target=\"_blank\" href=https://colab.research.google.com/notebooks/data_table.ipynb>data table notebook</a>'\n",
              "            + ' to learn more about interactive tables.';\n",
              "          element.innerHTML = '';\n",
              "          dataTable['output_type'] = 'display_data';\n",
              "          await google.colab.output.renderOutput(dataTable, element);\n",
              "          const docLink = document.createElement('div');\n",
              "          docLink.innerHTML = docLinkHtml;\n",
              "          element.appendChild(docLink);\n",
              "        }\n",
              "      </script>\n",
              "    </div>\n",
              "  </div>\n",
              "  "
            ]
          },
          "metadata": {},
          "execution_count": 15
        }
      ],
      "source": [
        "# the correlation between the columns \n",
        "df.corr()"
      ]
    },
    {
      "cell_type": "code",
      "execution_count": 16,
      "id": "3839f80f",
      "metadata": {
        "colab": {
          "base_uri": "https://localhost:8080/",
          "height": 949
        },
        "id": "3839f80f",
        "outputId": "5feda65f-9262-4ace-f600-f108a03be06d"
      },
      "outputs": [
        {
          "output_type": "display_data",
          "data": {
            "text/plain": [
              "<Figure size 1080x1080 with 2 Axes>"
            ],
            "image/png": "[encoded data removed]"
          },
          "metadata": {
            "needs_background": "light"
          }
        }
      ],
      "source": [
        "# Correlation of the columns shown in a heatmap\n",
        "plt.figure(figsize=(15,15))\n",
        "sns.heatmap(df.corr(),annot=True);"
      ]
    },
    {
      "cell_type": "code",
      "execution_count": 17,
      "id": "4a8dbb76",
      "metadata": {
        "colab": {
          "base_uri": "https://localhost:8080/",
          "height": 386
        },
        "id": "4a8dbb76",
        "outputId": "1d97cd74-25c9-4ed7-dbf0-1d9464fbb8cb"
      },
      "outputs": [
        {
          "output_type": "execute_result",
          "data": {
            "text/plain": [
              "<seaborn.axisgrid.FacetGrid at 0x7f71288d7f70>"
            ]
          },
          "metadata": {},
          "execution_count": 17
        },
        {
          "output_type": "display_data",
          "data": {
            "text/plain": [
              "<Figure size 360x360 with 1 Axes>"
            ],
            "image/png": "[encoded data removed]"
          },
          "metadata": {
            "needs_background": "light"
          }
        }
      ],
      "source": [
        "# distplot\n",
        "sns.displot(df['total_count'],kde=True)"
      ]
    },
    {
      "cell_type": "code",
      "source": [
        "##  analysing the continuous values by creating histograms to understand the distribution\n",
        "\n",
        "for feature in df.columns:\n",
        "    data=df.copy()\n",
        "    data[feature].hist(bins=25)\n",
        "    plt.xlabel(feature)\n",
        "    plt.ylabel(\"Count\")\n",
        "    plt.title(feature)\n",
        "    plt.show()\n"
      ],
      "metadata": {
        "colab": {
          "base_uri": "https://localhost:8080/",
          "height": 1000
        },
        "id": "hzDUos_VruPb",
        "outputId": "9a6e88c7-2e38-4176-8ede-db43cf1f2a27"
      },
      "id": "hzDUos_VruPb",
      "execution_count": 44,
      "outputs": [
        {
          "output_type": "display_data",
          "data": {
            "text/plain": [
              "<Figure size 432x288 with 1 Axes>"
            ],
            "image/png": "[encoded data removed]"
          },
          "metadata": {}
        },
        {
          "output_type": "display_data",
          "data": {
            "text/plain": [
              "<Figure size 432x288 with 1 Axes>"
            ],
            "image/png": "[encoded data removed]"
          },
          "metadata": {}
        },
        {
          "output_type": "display_data",
          "data": {
            "text/plain": [
              "<Figure size 432x288 with 1 Axes>"
            ],
            "image/png": "[encoded data removed]"
          },
          "metadata": {}
        },
        {
          "output_type": "display_data",
          "data": {
            "text/plain": [
              "<Figure size 432x288 with 1 Axes>"
            ],
            "image/png": "[encoded data removed]"
          },
          "metadata": {}
        },
        {
          "output_type": "display_data",
          "data": {
            "text/plain": [
              "<Figure size 432x288 with 1 Axes>"
            ],
            "image/png": "[encoded data removed]"
          },
          "metadata": {}
        },
        {
          "output_type": "display_data",
          "data": {
            "text/plain": [
              "<Figure size 432x288 with 1 Axes>"
            ],
            "image/png": "[encoded data removed]"
          },
          "metadata": {}
        },
        {
          "output_type": "display_data",
          "data": {
            "text/plain": [
              "<Figure size 432x288 with 1 Axes>"
            ],
            "image/png": "[encoded data removed]"
          },
          "metadata": {}
        },
        {
          "output_type": "display_data",
          "data": {
            "text/plain": [
              "<Figure size 432x288 with 1 Axes>"
            ],
            "image/png": "[encoded data removed]"
          },
          "metadata": {}
        },
        {
          "output_type": "display_data",
          "data": {
            "text/plain": [
              "<Figure size 432x288 with 1 Axes>"
            ],
            "image/png": "[encoded data removed]"
          },
          "metadata": {}
        },
        {
          "output_type": "display_data",
          "data": {
            "text/plain": [
              "<Figure size 432x288 with 1 Axes>"
            ],
            "image/png": "[encoded data removed]"
          },
          "metadata": {}
        },
        {
          "output_type": "display_data",
          "data": {
            "text/plain": [
              "<Figure size 432x288 with 1 Axes>"
            ],
            "image/png": "[encoded data removed]"
          },
          "metadata": {}
        },
        {
          "output_type": "display_data",
          "data": {
            "text/plain": [
              "<Figure size 432x288 with 1 Axes>"
            ],
            "image/png": "[encoded data removed]"
          },
          "metadata": {}
        },
        {
          "output_type": "display_data",
          "data": {
            "text/plain": [
              "<Figure size 432x288 with 1 Axes>"
            ],
            "image/png": "[encoded data removed]"
          },
          "metadata": {}
        },
        {
          "output_type": "display_data",
          "data": {
            "text/plain": [
              "<Figure size 432x288 with 1 Axes>"
            ],
            "image/png": "[encoded data removed]"
          },
          "metadata": {}
        },
        {
          "output_type": "display_data",
          "data": {
            "text/plain": [
              "<Figure size 432x288 with 1 Axes>"
            ],
            "image/png": "[encoded data removed]"
          },
          "metadata": {}
        }
      ]
    },
    {
      "cell_type": "code",
      "execution_count": 18,
      "id": "f54fd807",
      "metadata": {
        "colab": {
          "base_uri": "https://localhost:8080/",
          "height": 279
        },
        "id": "f54fd807",
        "outputId": "0ff83c90-b66d-49d5-ca6d-739c35b702a4"
      },
      "outputs": [
        {
          "output_type": "display_data",
          "data": {
            "text/plain": [
              "<Figure size 432x288 with 1 Axes>"
            ],
            "image/png": "[encoded data removed]"
          },
          "metadata": {
            "needs_background": "light"
          }
        }
      ],
      "source": [
        "# histogram\n",
        "plt.hist(df[\"total_count\"])\n",
        "plt.xlabel(\"Number of bikes\")\n",
        "plt.ylabel(\"Frequency\")\n",
        "plt.show()"
      ]
    },
    {
      "cell_type": "code",
      "execution_count": 19,
      "id": "259bf9a5",
      "metadata": {
        "colab": {
          "base_uri": "https://localhost:8080/",
          "height": 513
        },
        "id": "259bf9a5",
        "outputId": "98f46213-63cf-433e-ce0f-a2e99258178a"
      },
      "outputs": [
        {
          "output_type": "display_data",
          "data": {
            "text/plain": [
              "<Figure size 1080x576 with 1 Axes>"
            ],
            "image/png": "[encoded data removed]"
          },
          "metadata": {
            "needs_background": "light"
          }
        }
      ],
      "source": [
        "#Bar plot for seasonwise monthly distribution of counts\n",
        "\n",
        "fig,ax=plt.subplots(figsize=(15,8))\n",
        "sns.set_style('white')\n",
        "sns.barplot(x='month',y='total_count',data=df[['month','total_count','season']],hue='season',ax=ax)\n",
        "ax.set_title('Seasonwise monthly distribution of counts')\n",
        "plt.show()"
      ]
    },
    {
      "cell_type": "code",
      "execution_count": 20,
      "id": "3c243331",
      "metadata": {
        "colab": {
          "base_uri": "https://localhost:8080/",
          "height": 513
        },
        "id": "3c243331",
        "outputId": "a6df4108-9813-498c-c06a-de917a1d3a3c"
      },
      "outputs": [
        {
          "output_type": "display_data",
          "data": {
            "text/plain": [
              "<Figure size 1080x576 with 1 Axes>"
            ],
            "image/png": "[encoded data removed]"
          },
          "metadata": {}
        }
      ],
      "source": [
        "#Violin plot for yearly distribution of counts\n",
        "\n",
        "fig,ax=plt.subplots(figsize=(15,8))\n",
        "sns.violinplot(x='year',y='total_count',data=df[['year','total_count']])\n",
        "ax.set_title('Yearly distribution of counts')\n",
        "plt.show()\n"
      ]
    },
    {
      "cell_type": "code",
      "source": [
        "columns=['rec_id', 'season', 'year', 'month', 'holiday', 'weekday', 'workingday',\n",
        "       'weather_condition', 'temp', 'atemp', 'humidity', 'windspeed', 'casual',\n",
        "       'registered', 'total_count']\n",
        "columns"
      ],
      "metadata": {
        "colab": {
          "base_uri": "https://localhost:8080/"
        },
        "id": "zri4JtWpLkiz",
        "outputId": "8c879c4e-1556-42e6-9a98-30005079baa1"
      },
      "id": "zri4JtWpLkiz",
      "execution_count": 21,
      "outputs": [
        {
          "output_type": "execute_result",
          "data": {
            "text/plain": [
              "['rec_id',\n",
              " 'season',\n",
              " 'year',\n",
              " 'month',\n",
              " 'holiday',\n",
              " 'weekday',\n",
              " 'workingday',\n",
              " 'weather_condition',\n",
              " 'temp',\n",
              " 'atemp',\n",
              " 'humidity',\n",
              " 'windspeed',\n",
              " 'casual',\n",
              " 'registered',\n",
              " 'total_count']"
            ]
          },
          "metadata": {},
          "execution_count": 21
        }
      ]
    },
    {
      "cell_type": "code",
      "source": [
        "for col in columns:\n",
        "    print(col)\n",
        "    bp=plt.boxplot(df[col], showcaps=True)\n",
        "    print(bp.keys())\n",
        "    for key in bp:\n",
        "        print(f'{key}: {[item.get_ydata() for item in bp[key]]}\\n')\n",
        "    plt.show()\n",
        "    print('***'*30)"
      ],
      "metadata": {
        "colab": {
          "base_uri": "https://localhost:8080/",
          "height": 1000
        },
        "id": "yq-XYl2ELcWJ",
        "outputId": "c96ccdb1-3113-471f-a16d-b16848417750"
      },
      "id": "yq-XYl2ELcWJ",
      "execution_count": 22,
      "outputs": [
        {
          "output_type": "stream",
          "name": "stdout",
          "text": [
            "rec_id\n",
            "dict_keys(['whiskers', 'caps', 'boxes', 'medians', 'fliers', 'means'])\n",
            "whiskers: [array([183.5,   1. ]), array([548.5, 731. ])]\n",
            "\n",
            "caps: [array([1., 1.]), array([731., 731.])]\n",
            "\n",
            "boxes: [array([183.5, 183.5, 548.5, 548.5, 183.5])]\n",
            "\n",
            "medians: [array([366., 366.])]\n",
            "\n",
            "fliers: [array([], dtype=int64)]\n",
            "\n",
            "means: []\n",
            "\n"
          ]
        },
        {
          "output_type": "display_data",
          "data": {
            "text/plain": [
              "<Figure size 432x288 with 1 Axes>"
            ],
            "image/png": "[encoded data removed]"
          },
          "metadata": {}
        },
        {
          "output_type": "stream",
          "name": "stdout",
          "text": [
            "******************************************************************************************\n",
            "season\n",
            "dict_keys(['whiskers', 'caps', 'boxes', 'medians', 'fliers', 'means'])\n",
            "whiskers: [array([2., 1.]), array([3., 4.])]\n",
            "\n",
            "caps: [array([1., 1.]), array([4., 4.])]\n",
            "\n",
            "boxes: [array([2., 2., 3., 3., 2.])]\n",
            "\n",
            "medians: [array([3., 3.])]\n",
            "\n",
            "fliers: [array([], dtype=int64)]\n",
            "\n",
            "means: []\n",
            "\n"
          ]
        },
        {
          "output_type": "display_data",
          "data": {
            "text/plain": [
              "<Figure size 432x288 with 1 Axes>"
            ],
            "image/png": "[encoded data removed]"
          },
          "metadata": {}
        },
        {
          "output_type": "stream",
          "name": "stdout",
          "text": [
            "******************************************************************************************\n",
            "year\n",
            "dict_keys(['whiskers', 'caps', 'boxes', 'medians', 'fliers', 'means'])\n",
            "whiskers: [array([0., 0.]), array([1., 1.])]\n",
            "\n",
            "caps: [array([0., 0.]), array([1., 1.])]\n",
            "\n",
            "boxes: [array([0., 0., 1., 1., 0.])]\n",
            "\n",
            "medians: [array([1., 1.])]\n",
            "\n",
            "fliers: [array([], dtype=int64)]\n",
            "\n",
            "means: []\n",
            "\n"
          ]
        },
        {
          "output_type": "display_data",
          "data": {
            "text/plain": [
              "<Figure size 432x288 with 1 Axes>"
            ],
            "image/png": "[encoded data removed]"
          },
          "metadata": {}
        },
        {
          "output_type": "stream",
          "name": "stdout",
          "text": [
            "******************************************************************************************\n",
            "month\n",
            "dict_keys(['whiskers', 'caps', 'boxes', 'medians', 'fliers', 'means'])\n",
            "whiskers: [array([4., 1.]), array([10., 12.])]\n",
            "\n",
            "caps: [array([1., 1.]), array([12., 12.])]\n",
            "\n",
            "boxes: [array([ 4.,  4., 10., 10.,  4.])]\n",
            "\n",
            "medians: [array([7., 7.])]\n",
            "\n",
            "fliers: [array([], dtype=int64)]\n",
            "\n",
            "means: []\n",
            "\n"
          ]
        },
        {
          "output_type": "display_data",
          "data": {
            "text/plain": [
              "<Figure size 432x288 with 1 Axes>"
            ],
            "image/png": "[encoded data removed]"
          },
          "metadata": {}
        },
        {
          "output_type": "stream",
          "name": "stdout",
          "text": [
            "******************************************************************************************\n",
            "holiday\n",
            "dict_keys(['whiskers', 'caps', 'boxes', 'medians', 'fliers', 'means'])\n",
            "whiskers: [array([0., 0.]), array([0., 0.])]\n",
            "\n",
            "caps: [array([0., 0.]), array([0., 0.])]\n",
            "\n",
            "boxes: [array([0., 0., 0., 0., 0.])]\n",
            "\n",
            "medians: [array([0., 0.])]\n",
            "\n",
            "fliers: [array([1, 1, 1, 1, 1, 1, 1, 1, 1, 1, 1, 1, 1, 1, 1, 1, 1, 1, 1, 1, 1])]\n",
            "\n",
            "means: []\n",
            "\n"
          ]
        },
        {
          "output_type": "display_data",
          "data": {
            "text/plain": [
              "<Figure size 432x288 with 1 Axes>"
            ],
            "image/png": "[encoded data removed]"
          },
          "metadata": {}
        },
        {
          "output_type": "stream",
          "name": "stdout",
          "text": [
            "******************************************************************************************\n",
            "weekday\n",
            "dict_keys(['whiskers', 'caps', 'boxes', 'medians', 'fliers', 'means'])\n",
            "whiskers: [array([1., 0.]), array([5., 6.])]\n",
            "\n",
            "caps: [array([0., 0.]), array([6., 6.])]\n",
            "\n",
            "boxes: [array([1., 1., 5., 5., 1.])]\n",
            "\n",
            "medians: [array([3., 3.])]\n",
            "\n",
            "fliers: [array([], dtype=int64)]\n",
            "\n",
            "means: []\n",
            "\n"
          ]
        },
        {
          "output_type": "display_data",
          "data": {
            "text/plain": [
              "<Figure size 432x288 with 1 Axes>"
            ],
            "image/png": "[encoded data removed]"
          },
          "metadata": {}
        },
        {
          "output_type": "stream",
          "name": "stdout",
          "text": [
            "******************************************************************************************\n",
            "workingday\n",
            "dict_keys(['whiskers', 'caps', 'boxes', 'medians', 'fliers', 'means'])\n",
            "whiskers: [array([0., 0.]), array([1., 1.])]\n",
            "\n",
            "caps: [array([0., 0.]), array([1., 1.])]\n",
            "\n",
            "boxes: [array([0., 0., 1., 1., 0.])]\n",
            "\n",
            "medians: [array([1., 1.])]\n",
            "\n",
            "fliers: [array([], dtype=int64)]\n",
            "\n",
            "means: []\n",
            "\n"
          ]
        },
        {
          "output_type": "display_data",
          "data": {
            "text/plain": [
              "<Figure size 432x288 with 1 Axes>"
            ],
            "image/png": "[encoded data removed]"
          },
          "metadata": {}
        },
        {
          "output_type": "stream",
          "name": "stdout",
          "text": [
            "******************************************************************************************\n",
            "weather_condition\n",
            "dict_keys(['whiskers', 'caps', 'boxes', 'medians', 'fliers', 'means'])\n",
            "whiskers: [array([1., 1.]), array([2., 3.])]\n",
            "\n",
            "caps: [array([1., 1.]), array([3., 3.])]\n",
            "\n",
            "boxes: [array([1., 1., 2., 2., 1.])]\n",
            "\n",
            "medians: [array([1., 1.])]\n",
            "\n",
            "fliers: [array([], dtype=int64)]\n",
            "\n",
            "means: []\n",
            "\n"
          ]
        },
        {
          "output_type": "display_data",
          "data": {
            "text/plain": [
              "<Figure size 432x288 with 1 Axes>"
            ],
            "image/png": "[encoded data removed]"
          },
          "metadata": {}
        },
        {
          "output_type": "stream",
          "name": "stdout",
          "text": [
            "******************************************************************************************\n",
            "temp\n",
            "dict_keys(['whiskers', 'caps', 'boxes', 'medians', 'fliers', 'means'])\n",
            "whiskers: [array([0.3370835, 0.0591304]), array([0.6554165, 0.861667 ])]\n",
            "\n",
            "caps: [array([0.0591304, 0.0591304]), array([0.861667, 0.861667])]\n",
            "\n",
            "boxes: [array([0.3370835, 0.3370835, 0.6554165, 0.6554165, 0.3370835])]\n",
            "\n",
            "medians: [array([0.498333, 0.498333])]\n",
            "\n",
            "fliers: [array([], dtype=float64)]\n",
            "\n",
            "means: []\n",
            "\n"
          ]
        },
        {
          "output_type": "display_data",
          "data": {
            "text/plain": [
              "<Figure size 432x288 with 1 Axes>"
            ],
            "image/png": "[encoded data removed]"
          },
          "metadata": {}
        },
        {
          "output_type": "stream",
          "name": "stdout",
          "text": [
            "******************************************************************************************\n",
            "atemp\n",
            "dict_keys(['whiskers', 'caps', 'boxes', 'medians', 'fliers', 'means'])\n",
            "whiskers: [array([0.3378425, 0.0790696]), array([0.608602, 0.840896])]\n",
            "\n",
            "caps: [array([0.0790696, 0.0790696]), array([0.840896, 0.840896])]\n",
            "\n",
            "boxes: [array([0.3378425, 0.3378425, 0.608602 , 0.608602 , 0.3378425])]\n",
            "\n",
            "medians: [array([0.486733, 0.486733])]\n",
            "\n",
            "fliers: [array([], dtype=float64)]\n",
            "\n",
            "means: []\n",
            "\n"
          ]
        },
        {
          "output_type": "display_data",
          "data": {
            "text/plain": [
              "<Figure size 432x288 with 1 Axes>"
            ],
            "image/png": "[encoded data removed]"
          },
          "metadata": {}
        },
        {
          "output_type": "stream",
          "name": "stdout",
          "text": [
            "******************************************************************************************\n",
            "humidity\n",
            "dict_keys(['whiskers', 'caps', 'boxes', 'medians', 'fliers', 'means'])\n",
            "whiskers: [array([0.52    , 0.254167]), array([0.7302085, 0.9725   ])]\n",
            "\n",
            "caps: [array([0.254167, 0.254167]), array([0.9725, 0.9725])]\n",
            "\n",
            "boxes: [array([0.52     , 0.52     , 0.7302085, 0.7302085, 0.52     ])]\n",
            "\n",
            "medians: [array([0.626667, 0.626667])]\n",
            "\n",
            "fliers: [array([0.187917, 0.      ])]\n",
            "\n",
            "means: []\n",
            "\n"
          ]
        },
        {
          "output_type": "display_data",
          "data": {
            "text/plain": [
              "<Figure size 432x288 with 1 Axes>"
            ],
            "image/png": "[encoded data removed]"
          },
          "metadata": {}
        },
        {
          "output_type": "stream",
          "name": "stdout",
          "text": [
            "******************************************************************************************\n",
            "windspeed\n",
            "dict_keys(['whiskers', 'caps', 'boxes', 'medians', 'fliers', 'means'])\n",
            "whiskers: [array([0.13495  , 0.0223917]), array([0.2332145, 0.378108 ])]\n",
            "\n",
            "caps: [array([0.0223917, 0.0223917]), array([0.378108, 0.378108])]\n",
            "\n",
            "boxes: [array([0.13495  , 0.13495  , 0.2332145, 0.2332145, 0.13495  ])]\n",
            "\n",
            "medians: [array([0.180975, 0.180975])]\n",
            "\n",
            "fliers: [array([0.417908, 0.507463, 0.385571, 0.388067, 0.422275, 0.415429,\n",
            "       0.409212, 0.421642, 0.441563, 0.4148  , 0.386821, 0.398008,\n",
            "       0.407346])]\n",
            "\n",
            "means: []\n",
            "\n"
          ]
        },
        {
          "output_type": "display_data",
          "data": {
            "text/plain": [
              "<Figure size 432x288 with 1 Axes>"
            ],
            "image/png": "[encoded data removed]"
          },
          "metadata": {}
        },
        {
          "output_type": "stream",
          "name": "stdout",
          "text": [
            "******************************************************************************************\n",
            "casual\n",
            "dict_keys(['whiskers', 'caps', 'boxes', 'medians', 'fliers', 'means'])\n",
            "whiskers: [array([315.5,   2. ]), array([1096., 2258.])]\n",
            "\n",
            "caps: [array([2., 2.]), array([2258., 2258.])]\n",
            "\n",
            "boxes: [array([ 315.5,  315.5, 1096. , 1096. ,  315.5])]\n",
            "\n",
            "medians: [array([713., 713.])]\n",
            "\n",
            "fliers: [array([2355, 2282, 3065, 2418, 2521, 2397, 3155, 2469, 2301, 2347, 3252,\n",
            "       2795, 2846, 2541, 2496, 2622, 3410, 2704, 2855, 3283, 2557, 2795,\n",
            "       2494, 2708, 2963, 2634, 2657, 2551, 2562, 2355, 2544, 2345, 2827,\n",
            "       2352, 2613, 2570, 3160, 2512, 2454, 2589, 3031, 2806, 2643, 2290])]\n",
            "\n",
            "means: []\n",
            "\n"
          ]
        },
        {
          "output_type": "display_data",
          "data": {
            "text/plain": [
              "<Figure size 432x288 with 1 Axes>"
            ],
            "image/png": "[encoded data removed]"
          },
          "metadata": {}
        },
        {
          "output_type": "stream",
          "name": "stdout",
          "text": [
            "******************************************************************************************\n",
            "registered\n",
            "dict_keys(['whiskers', 'caps', 'boxes', 'medians', 'fliers', 'means'])\n",
            "whiskers: [array([2497.,   20.]), array([4776.5, 6946. ])]\n",
            "\n",
            "caps: [array([20., 20.]), array([6946., 6946.])]\n",
            "\n",
            "boxes: [array([2497. , 2497. , 4776.5, 4776.5, 2497. ])]\n",
            "\n",
            "medians: [array([3662., 3662.])]\n",
            "\n",
            "fliers: [array([], dtype=int64)]\n",
            "\n",
            "means: []\n",
            "\n"
          ]
        },
        {
          "output_type": "display_data",
          "data": {
            "text/plain": [
              "<Figure size 432x288 with 1 Axes>"
            ],
            "image/png": "[encoded data removed]"
          },
          "metadata": {}
        },
        {
          "output_type": "stream",
          "name": "stdout",
          "text": [
            "******************************************************************************************\n",
            "total_count\n",
            "dict_keys(['whiskers', 'caps', 'boxes', 'medians', 'fliers', 'means'])\n",
            "whiskers: [array([3152.,   22.]), array([5956., 8714.])]\n",
            "\n",
            "caps: [array([22., 22.]), array([8714., 8714.])]\n",
            "\n",
            "boxes: [array([3152., 3152., 5956., 5956., 3152.])]\n",
            "\n",
            "medians: [array([4548., 4548.])]\n",
            "\n",
            "fliers: [array([], dtype=int64)]\n",
            "\n",
            "means: []\n",
            "\n"
          ]
        },
        {
          "output_type": "display_data",
          "data": {
            "text/plain": [
              "<Figure size 432x288 with 1 Axes>"
            ],
            "image/png": "[encoded data removed]"
          },
          "metadata": {}
        },
        {
          "output_type": "stream",
          "name": "stdout",
          "text": [
            "******************************************************************************************\n"
          ]
        }
      ]
    },
    {
      "cell_type": "code",
      "source": [
        "df['casual']=np.where(df['casual']>2258.0, 2258.0, df['casual'])\n",
        "\n",
        "df['windspeed']=np.where(df['windspeed']>0.378108, 0.378108, df['windspeed'])\n",
        "\n",
        "df['humidity']=np.where(df['humidity']<0.254167, 0.254167, df['humidity'])\n",
        "\n",
        "df['holiday']=np.where(df['holiday']>0.0,0.0, df['holiday'])"
      ],
      "metadata": {
        "id": "x2BuXlW_25-h"
      },
      "id": "x2BuXlW_25-h",
      "execution_count": 23,
      "outputs": []
    },
    {
      "cell_type": "code",
      "source": [
        "for col in columns:\n",
        "    print(col)\n",
        "    bp=plt.boxplot(df[col], showcaps=True)\n",
        "    print(bp.keys())\n",
        "    for key in bp:\n",
        "        print(f'{key}: {[item.get_ydata() for item in bp[key]]}\\n')\n",
        "    plt.show()\n",
        "    print('***'*30)"
      ],
      "metadata": {
        "colab": {
          "base_uri": "https://localhost:8080/",
          "height": 1000
        },
        "id": "M73PXhHoNTK3",
        "outputId": "fc514b35-943e-4705-8141-cf485b2d2216"
      },
      "id": "M73PXhHoNTK3",
      "execution_count": 24,
      "outputs": [
        {
          "output_type": "stream",
          "name": "stdout",
          "text": [
            "rec_id\n",
            "dict_keys(['whiskers', 'caps', 'boxes', 'medians', 'fliers', 'means'])\n",
            "whiskers: [array([183.5,   1. ]), array([548.5, 731. ])]\n",
            "\n",
            "caps: [array([1., 1.]), array([731., 731.])]\n",
            "\n",
            "boxes: [array([183.5, 183.5, 548.5, 548.5, 183.5])]\n",
            "\n",
            "medians: [array([366., 366.])]\n",
            "\n",
            "fliers: [array([], dtype=int64)]\n",
            "\n",
            "means: []\n",
            "\n"
          ]
        },
        {
          "output_type": "display_data",
          "data": {
            "text/plain": [
              "<Figure size 432x288 with 1 Axes>"
            ],
            "image/png": "[encoded data removed]"
          },
          "metadata": {}
        },
        {
          "output_type": "stream",
          "name": "stdout",
          "text": [
            "******************************************************************************************\n",
            "season\n",
            "dict_keys(['whiskers', 'caps', 'boxes', 'medians', 'fliers', 'means'])\n",
            "whiskers: [array([2., 1.]), array([3., 4.])]\n",
            "\n",
            "caps: [array([1., 1.]), array([4., 4.])]\n",
            "\n",
            "boxes: [array([2., 2., 3., 3., 2.])]\n",
            "\n",
            "medians: [array([3., 3.])]\n",
            "\n",
            "fliers: [array([], dtype=int64)]\n",
            "\n",
            "means: []\n",
            "\n"
          ]
        },
        {
          "output_type": "display_data",
          "data": {
            "text/plain": [
              "<Figure size 432x288 with 1 Axes>"
            ],
            "image/png": "[encoded data removed]"
          },
          "metadata": {}
        },
        {
          "output_type": "stream",
          "name": "stdout",
          "text": [
            "******************************************************************************************\n",
            "year\n",
            "dict_keys(['whiskers', 'caps', 'boxes', 'medians', 'fliers', 'means'])\n",
            "whiskers: [array([0., 0.]), array([1., 1.])]\n",
            "\n",
            "caps: [array([0., 0.]), array([1., 1.])]\n",
            "\n",
            "boxes: [array([0., 0., 1., 1., 0.])]\n",
            "\n",
            "medians: [array([1., 1.])]\n",
            "\n",
            "fliers: [array([], dtype=int64)]\n",
            "\n",
            "means: []\n",
            "\n"
          ]
        },
        {
          "output_type": "display_data",
          "data": {
            "text/plain": [
              "<Figure size 432x288 with 1 Axes>"
            ],
            "image/png": "[encoded data removed]"
          },
          "metadata": {}
        },
        {
          "output_type": "stream",
          "name": "stdout",
          "text": [
            "******************************************************************************************\n",
            "month\n",
            "dict_keys(['whiskers', 'caps', 'boxes', 'medians', 'fliers', 'means'])\n",
            "whiskers: [array([4., 1.]), array([10., 12.])]\n",
            "\n",
            "caps: [array([1., 1.]), array([12., 12.])]\n",
            "\n",
            "boxes: [array([ 4.,  4., 10., 10.,  4.])]\n",
            "\n",
            "medians: [array([7., 7.])]\n",
            "\n",
            "fliers: [array([], dtype=int64)]\n",
            "\n",
            "means: []\n",
            "\n"
          ]
        },
        {
          "output_type": "display_data",
          "data": {
            "text/plain": [
              "<Figure size 432x288 with 1 Axes>"
            ],
            "image/png": "[encoded data removed]"
          },
          "metadata": {}
        },
        {
          "output_type": "stream",
          "name": "stdout",
          "text": [
            "******************************************************************************************\n",
            "holiday\n",
            "dict_keys(['whiskers', 'caps', 'boxes', 'medians', 'fliers', 'means'])\n",
            "whiskers: [array([0., 0.]), array([0., 0.])]\n",
            "\n",
            "caps: [array([0., 0.]), array([0., 0.])]\n",
            "\n",
            "boxes: [array([0., 0., 0., 0., 0.])]\n",
            "\n",
            "medians: [array([0., 0.])]\n",
            "\n",
            "fliers: [array([], dtype=float64)]\n",
            "\n",
            "means: []\n",
            "\n"
          ]
        },
        {
          "output_type": "display_data",
          "data": {
            "text/plain": [
              "<Figure size 432x288 with 1 Axes>"
            ],
            "image/png": "[encoded data removed]"
          },
          "metadata": {}
        },
        {
          "output_type": "stream",
          "name": "stdout",
          "text": [
            "******************************************************************************************\n",
            "weekday\n",
            "dict_keys(['whiskers', 'caps', 'boxes', 'medians', 'fliers', 'means'])\n",
            "whiskers: [array([1., 0.]), array([5., 6.])]\n",
            "\n",
            "caps: [array([0., 0.]), array([6., 6.])]\n",
            "\n",
            "boxes: [array([1., 1., 5., 5., 1.])]\n",
            "\n",
            "medians: [array([3., 3.])]\n",
            "\n",
            "fliers: [array([], dtype=int64)]\n",
            "\n",
            "means: []\n",
            "\n"
          ]
        },
        {
          "output_type": "display_data",
          "data": {
            "text/plain": [
              "<Figure size 432x288 with 1 Axes>"
            ],
            "image/png": "[encoded data removed]"
          },
          "metadata": {}
        },
        {
          "output_type": "stream",
          "name": "stdout",
          "text": [
            "******************************************************************************************\n",
            "workingday\n",
            "dict_keys(['whiskers', 'caps', 'boxes', 'medians', 'fliers', 'means'])\n",
            "whiskers: [array([0., 0.]), array([1., 1.])]\n",
            "\n",
            "caps: [array([0., 0.]), array([1., 1.])]\n",
            "\n",
            "boxes: [array([0., 0., 1., 1., 0.])]\n",
            "\n",
            "medians: [array([1., 1.])]\n",
            "\n",
            "fliers: [array([], dtype=int64)]\n",
            "\n",
            "means: []\n",
            "\n"
          ]
        },
        {
          "output_type": "display_data",
          "data": {
            "text/plain": [
              "<Figure size 432x288 with 1 Axes>"
            ],
            "image/png": "[encoded data removed]"
          },
          "metadata": {}
        },
        {
          "output_type": "stream",
          "name": "stdout",
          "text": [
            "******************************************************************************************\n",
            "weather_condition\n",
            "dict_keys(['whiskers', 'caps', 'boxes', 'medians', 'fliers', 'means'])\n",
            "whiskers: [array([1., 1.]), array([2., 3.])]\n",
            "\n",
            "caps: [array([1., 1.]), array([3., 3.])]\n",
            "\n",
            "boxes: [array([1., 1., 2., 2., 1.])]\n",
            "\n",
            "medians: [array([1., 1.])]\n",
            "\n",
            "fliers: [array([], dtype=int64)]\n",
            "\n",
            "means: []\n",
            "\n"
          ]
        },
        {
          "output_type": "display_data",
          "data": {
            "text/plain": [
              "<Figure size 432x288 with 1 Axes>"
            ],
            "image/png": "[encoded data removed]"
          },
          "metadata": {}
        },
        {
          "output_type": "stream",
          "name": "stdout",
          "text": [
            "******************************************************************************************\n",
            "temp\n",
            "dict_keys(['whiskers', 'caps', 'boxes', 'medians', 'fliers', 'means'])\n",
            "whiskers: [array([0.3370835, 0.0591304]), array([0.6554165, 0.861667 ])]\n",
            "\n",
            "caps: [array([0.0591304, 0.0591304]), array([0.861667, 0.861667])]\n",
            "\n",
            "boxes: [array([0.3370835, 0.3370835, 0.6554165, 0.6554165, 0.3370835])]\n",
            "\n",
            "medians: [array([0.498333, 0.498333])]\n",
            "\n",
            "fliers: [array([], dtype=float64)]\n",
            "\n",
            "means: []\n",
            "\n"
          ]
        },
        {
          "output_type": "display_data",
          "data": {
            "text/plain": [
              "<Figure size 432x288 with 1 Axes>"
            ],
            "image/png": "[encoded data removed]"
          },
          "metadata": {}
        },
        {
          "output_type": "stream",
          "name": "stdout",
          "text": [
            "******************************************************************************************\n",
            "atemp\n",
            "dict_keys(['whiskers', 'caps', 'boxes', 'medians', 'fliers', 'means'])\n",
            "whiskers: [array([0.3378425, 0.0790696]), array([0.608602, 0.840896])]\n",
            "\n",
            "caps: [array([0.0790696, 0.0790696]), array([0.840896, 0.840896])]\n",
            "\n",
            "boxes: [array([0.3378425, 0.3378425, 0.608602 , 0.608602 , 0.3378425])]\n",
            "\n",
            "medians: [array([0.486733, 0.486733])]\n",
            "\n",
            "fliers: [array([], dtype=float64)]\n",
            "\n",
            "means: []\n",
            "\n"
          ]
        },
        {
          "output_type": "display_data",
          "data": {
            "text/plain": [
              "<Figure size 432x288 with 1 Axes>"
            ],
            "image/png": "[encoded data removed]"
          },
          "metadata": {}
        },
        {
          "output_type": "stream",
          "name": "stdout",
          "text": [
            "******************************************************************************************\n",
            "humidity\n",
            "dict_keys(['whiskers', 'caps', 'boxes', 'medians', 'fliers', 'means'])\n",
            "whiskers: [array([0.52    , 0.254167]), array([0.7302085, 0.9725   ])]\n",
            "\n",
            "caps: [array([0.254167, 0.254167]), array([0.9725, 0.9725])]\n",
            "\n",
            "boxes: [array([0.52     , 0.52     , 0.7302085, 0.7302085, 0.52     ])]\n",
            "\n",
            "medians: [array([0.626667, 0.626667])]\n",
            "\n",
            "fliers: [array([], dtype=float64)]\n",
            "\n",
            "means: []\n",
            "\n"
          ]
        },
        {
          "output_type": "display_data",
          "data": {
            "text/plain": [
              "<Figure size 432x288 with 1 Axes>"
            ],
            "image/png": "[encoded data removed]"
          },
          "metadata": {}
        },
        {
          "output_type": "stream",
          "name": "stdout",
          "text": [
            "******************************************************************************************\n",
            "windspeed\n",
            "dict_keys(['whiskers', 'caps', 'boxes', 'medians', 'fliers', 'means'])\n",
            "whiskers: [array([0.13495  , 0.0223917]), array([0.2332145, 0.378108 ])]\n",
            "\n",
            "caps: [array([0.0223917, 0.0223917]), array([0.378108, 0.378108])]\n",
            "\n",
            "boxes: [array([0.13495  , 0.13495  , 0.2332145, 0.2332145, 0.13495  ])]\n",
            "\n",
            "medians: [array([0.180975, 0.180975])]\n",
            "\n",
            "fliers: [array([], dtype=float64)]\n",
            "\n",
            "means: []\n",
            "\n"
          ]
        },
        {
          "output_type": "display_data",
          "data": {
            "text/plain": [
              "<Figure size 432x288 with 1 Axes>"
            ],
            "image/png": "[encoded data removed]"
          },
          "metadata": {}
        },
        {
          "output_type": "stream",
          "name": "stdout",
          "text": [
            "******************************************************************************************\n",
            "casual\n",
            "dict_keys(['whiskers', 'caps', 'boxes', 'medians', 'fliers', 'means'])\n",
            "whiskers: [array([315.5,   2. ]), array([1096., 2258.])]\n",
            "\n",
            "caps: [array([2., 2.]), array([2258., 2258.])]\n",
            "\n",
            "boxes: [array([ 315.5,  315.5, 1096. , 1096. ,  315.5])]\n",
            "\n",
            "medians: [array([713., 713.])]\n",
            "\n",
            "fliers: [array([], dtype=float64)]\n",
            "\n",
            "means: []\n",
            "\n"
          ]
        },
        {
          "output_type": "display_data",
          "data": {
            "text/plain": [
              "<Figure size 432x288 with 1 Axes>"
            ],
            "image/png": "[encoded data removed]"
          },
          "metadata": {}
        },
        {
          "output_type": "stream",
          "name": "stdout",
          "text": [
            "******************************************************************************************\n",
            "registered\n",
            "dict_keys(['whiskers', 'caps', 'boxes', 'medians', 'fliers', 'means'])\n",
            "whiskers: [array([2497.,   20.]), array([4776.5, 6946. ])]\n",
            "\n",
            "caps: [array([20., 20.]), array([6946., 6946.])]\n",
            "\n",
            "boxes: [array([2497. , 2497. , 4776.5, 4776.5, 2497. ])]\n",
            "\n",
            "medians: [array([3662., 3662.])]\n",
            "\n",
            "fliers: [array([], dtype=int64)]\n",
            "\n",
            "means: []\n",
            "\n"
          ]
        },
        {
          "output_type": "display_data",
          "data": {
            "text/plain": [
              "<Figure size 432x288 with 1 Axes>"
            ],
            "image/png": "[encoded data removed]"
          },
          "metadata": {}
        },
        {
          "output_type": "stream",
          "name": "stdout",
          "text": [
            "******************************************************************************************\n",
            "total_count\n",
            "dict_keys(['whiskers', 'caps', 'boxes', 'medians', 'fliers', 'means'])\n",
            "whiskers: [array([3152.,   22.]), array([5956., 8714.])]\n",
            "\n",
            "caps: [array([22., 22.]), array([8714., 8714.])]\n",
            "\n",
            "boxes: [array([3152., 3152., 5956., 5956., 3152.])]\n",
            "\n",
            "medians: [array([4548., 4548.])]\n",
            "\n",
            "fliers: [array([], dtype=int64)]\n",
            "\n",
            "means: []\n",
            "\n"
          ]
        },
        {
          "output_type": "display_data",
          "data": {
            "text/plain": [
              "<Figure size 432x288 with 1 Axes>"
            ],
            "image/png": "[encoded data removed]"
          },
          "metadata": {}
        },
        {
          "output_type": "stream",
          "name": "stdout",
          "text": [
            "******************************************************************************************\n"
          ]
        }
      ]
    },
    {
      "cell_type": "code",
      "source": [
        "df.shape"
      ],
      "metadata": {
        "colab": {
          "base_uri": "https://localhost:8080/"
        },
        "id": "uduDnnxwP7HF",
        "outputId": "bd79688b-84b8-4d2b-f9c9-f1251fad9f0a"
      },
      "id": "uduDnnxwP7HF",
      "execution_count": 25,
      "outputs": [
        {
          "output_type": "execute_result",
          "data": {
            "text/plain": [
              "(731, 15)"
            ]
          },
          "metadata": {},
          "execution_count": 25
        }
      ]
    },
    {
      "cell_type": "markdown",
      "source": [
        "Modelling"
      ],
      "metadata": {
        "id": "H9MA7cNHpUM2"
      },
      "id": "H9MA7cNHpUM2"
    },
    {
      "cell_type": "code",
      "source": [
        "column_s = ['season', 'year', 'month', 'holiday', 'weekday', 'workingday',\n",
        "       'weather_condition', 'temp', 'humidity', 'windspeed', 'casual',\n",
        "       'registered']\n",
        "X = df.loc[:, column_s]\n",
        "y = df.iloc[:, -1]\n",
        "scaler = StandardScaler()\n",
        "\n",
        "# Fit the scaler to the data\n",
        "scaler.fit(X)\n",
        "\n",
        "# Standardize the data using the scaler\n",
        "X_scaled = scaler.transform(X)\n"
      ],
      "metadata": {
        "id": "p2MpemcdNTeT"
      },
      "id": "p2MpemcdNTeT",
      "execution_count": 89,
      "outputs": []
    },
    {
      "cell_type": "code",
      "source": [
        "from sklearn.model_selection import train_test_split\n",
        "from sklearn.ensemble import RandomForestRegressor\n",
        "from sklearn.model_selection import GridSearchCV\n",
        "\n",
        "X_train,X_test,y_train,y_test=train_test_split(X,y,test_size=.30,random_state=42)\n",
        "X_train.head(10)"
      ],
      "metadata": {
        "colab": {
          "base_uri": "https://localhost:8080/",
          "height": 363
        },
        "id": "O_oRwrtco4h0",
        "outputId": "bab8fe3e-d634-430c-9291-8e1b7ad725ef"
      },
      "id": "O_oRwrtco4h0",
      "execution_count": 90,
      "outputs": [
        {
          "output_type": "execute_result",
          "data": {
            "text/plain": [
              "     season  year  month  holiday  weekday  workingday  weather_condition  \\\n",
              "223       3     0      8      0.0        5           1                  1   \n",
              "684       4     1     11      0.0        4           1                  2   \n",
              "685       4     1     11      0.0        5           1                  1   \n",
              "163       2     0      6      0.0        1           1                  1   \n",
              "394       1     1      1      0.0        1           1                  1   \n",
              "641       4     1     10      0.0        3           1                  2   \n",
              "490       2     1      5      0.0        6           0                  2   \n",
              "390       1     1      1      0.0        4           1                  2   \n",
              "371       1     1      1      0.0        6           0                  1   \n",
              "334       4     0     12      0.0        4           1                  1   \n",
              "\n",
              "         temp  humidity  windspeed  casual  registered  \n",
              "223  0.708333  0.415000   0.125621  1051.0        3854  \n",
              "684  0.321667  0.620417   0.152987   320.0        5125  \n",
              "685  0.345000  0.524583   0.171025   484.0        5214  \n",
              "163  0.635000  0.494583   0.305350   863.0        4157  \n",
              "394  0.269167  0.400833   0.215792   126.0        3498  \n",
              "641  0.657500  0.793750   0.066546   728.0        6844  \n",
              "490  0.621667  0.756667   0.152992  2258.0        4387  \n",
              "390  0.341667  0.769583   0.073396   244.0        3831  \n",
              "371  0.393333  0.531667   0.174758  1070.0        3451  \n",
              "334  0.312500  0.524583   0.220158   182.0        3545  "
            ],
            "text/html": [
              "\n",
              "  <div id=\"df-8093d640-1277-4cb1-87c7-383c479e56d2\">\n",
              "    <div class=\"colab-df-container\">\n",
              "      <div>\n",
              "<style scoped>\n",
              "    .dataframe tbody tr th:only-of-type {\n",
              "        vertical-align: middle;\n",
              "    }\n",
              "\n",
              "    .dataframe tbody tr th {\n",
              "        vertical-align: top;\n",
              "    }\n",
              "\n",
              "    .dataframe thead th {\n",
              "        text-align: right;\n",
              "    }\n",
              "</style>\n",
              "<table border=\"1\" class=\"dataframe\">\n",
              "  <thead>\n",
              "    <tr style=\"text-align: right;\">\n",
              "      <th></th>\n",
              "      <th>season</th>\n",
              "      <th>year</th>\n",
              "      <th>month</th>\n",
              "      <th>holiday</th>\n",
              "      <th>weekday</th>\n",
              "      <th>workingday</th>\n",
              "      <th>weather_condition</th>\n",
              "      <th>temp</th>\n",
              "      <th>humidity</th>\n",
              "      <th>windspeed</th>\n",
              "      <th>casual</th>\n",
              "      <th>registered</th>\n",
              "    </tr>\n",
              "  </thead>\n",
              "  <tbody>\n",
              "    <tr>\n",
              "      <th>223</th>\n",
              "      <td>3</td>\n",
              "      <td>0</td>\n",
              "      <td>8</td>\n",
              "      <td>0.0</td>\n",
              "      <td>5</td>\n",
              "      <td>1</td>\n",
              "      <td>1</td>\n",
              "      <td>0.708333</td>\n",
              "      <td>0.415000</td>\n",
              "      <td>0.125621</td>\n",
              "      <td>1051.0</td>\n",
              "      <td>3854</td>\n",
              "    </tr>\n",
              "    <tr>\n",
              "      <th>684</th>\n",
              "      <td>4</td>\n",
              "      <td>1</td>\n",
              "      <td>11</td>\n",
              "      <td>0.0</td>\n",
              "      <td>4</td>\n",
              "      <td>1</td>\n",
              "      <td>2</td>\n",
              "      <td>0.321667</td>\n",
              "      <td>0.620417</td>\n",
              "      <td>0.152987</td>\n",
              "      <td>320.0</td>\n",
              "      <td>5125</td>\n",
              "    </tr>\n",
              "    <tr>\n",
              "      <th>685</th>\n",
              "      <td>4</td>\n",
              "      <td>1</td>\n",
              "      <td>11</td>\n",
              "      <td>0.0</td>\n",
              "      <td>5</td>\n",
              "      <td>1</td>\n",
              "      <td>1</td>\n",
              "      <td>0.345000</td>\n",
              "      <td>0.524583</td>\n",
              "      <td>0.171025</td>\n",
              "      <td>484.0</td>\n",
              "      <td>5214</td>\n",
              "    </tr>\n",
              "    <tr>\n",
              "      <th>163</th>\n",
              "      <td>2</td>\n",
              "      <td>0</td>\n",
              "      <td>6</td>\n",
              "      <td>0.0</td>\n",
              "      <td>1</td>\n",
              "      <td>1</td>\n",
              "      <td>1</td>\n",
              "      <td>0.635000</td>\n",
              "      <td>0.494583</td>\n",
              "      <td>0.305350</td>\n",
              "      <td>863.0</td>\n",
              "      <td>4157</td>\n",
              "    </tr>\n",
              "    <tr>\n",
              "      <th>394</th>\n",
              "      <td>1</td>\n",
              "      <td>1</td>\n",
              "      <td>1</td>\n",
              "      <td>0.0</td>\n",
              "      <td>1</td>\n",
              "      <td>1</td>\n",
              "      <td>1</td>\n",
              "      <td>0.269167</td>\n",
              "      <td>0.400833</td>\n",
              "      <td>0.215792</td>\n",
              "      <td>126.0</td>\n",
              "      <td>3498</td>\n",
              "    </tr>\n",
              "    <tr>\n",
              "      <th>641</th>\n",
              "      <td>4</td>\n",
              "      <td>1</td>\n",
              "      <td>10</td>\n",
              "      <td>0.0</td>\n",
              "      <td>3</td>\n",
              "      <td>1</td>\n",
              "      <td>2</td>\n",
              "      <td>0.657500</td>\n",
              "      <td>0.793750</td>\n",
              "      <td>0.066546</td>\n",
              "      <td>728.0</td>\n",
              "      <td>6844</td>\n",
              "    </tr>\n",
              "    <tr>\n",
              "      <th>490</th>\n",
              "      <td>2</td>\n",
              "      <td>1</td>\n",
              "      <td>5</td>\n",
              "      <td>0.0</td>\n",
              "      <td>6</td>\n",
              "      <td>0</td>\n",
              "      <td>2</td>\n",
              "      <td>0.621667</td>\n",
              "      <td>0.756667</td>\n",
              "      <td>0.152992</td>\n",
              "      <td>2258.0</td>\n",
              "      <td>4387</td>\n",
              "    </tr>\n",
              "    <tr>\n",
              "      <th>390</th>\n",
              "      <td>1</td>\n",
              "      <td>1</td>\n",
              "      <td>1</td>\n",
              "      <td>0.0</td>\n",
              "      <td>4</td>\n",
              "      <td>1</td>\n",
              "      <td>2</td>\n",
              "      <td>0.341667</td>\n",
              "      <td>0.769583</td>\n",
              "      <td>0.073396</td>\n",
              "      <td>244.0</td>\n",
              "      <td>3831</td>\n",
              "    </tr>\n",
              "    <tr>\n",
              "      <th>371</th>\n",
              "      <td>1</td>\n",
              "      <td>1</td>\n",
              "      <td>1</td>\n",
              "      <td>0.0</td>\n",
              "      <td>6</td>\n",
              "      <td>0</td>\n",
              "      <td>1</td>\n",
              "      <td>0.393333</td>\n",
              "      <td>0.531667</td>\n",
              "      <td>0.174758</td>\n",
              "      <td>1070.0</td>\n",
              "      <td>3451</td>\n",
              "    </tr>\n",
              "    <tr>\n",
              "      <th>334</th>\n",
              "      <td>4</td>\n",
              "      <td>0</td>\n",
              "      <td>12</td>\n",
              "      <td>0.0</td>\n",
              "      <td>4</td>\n",
              "      <td>1</td>\n",
              "      <td>1</td>\n",
              "      <td>0.312500</td>\n",
              "      <td>0.524583</td>\n",
              "      <td>0.220158</td>\n",
              "      <td>182.0</td>\n",
              "      <td>3545</td>\n",
              "    </tr>\n",
              "  </tbody>\n",
              "</table>\n",
              "</div>\n",
              "      <button class=\"colab-df-convert\" onclick=\"convertToInteractive('df-8093d640-1277-4cb1-87c7-383c479e56d2')\"\n",
              "              title=\"Convert this dataframe to an interactive table.\"\n",
              "              style=\"display:none;\">\n",
              "        \n",
              "  <svg xmlns=\"http://www.w3.org/2000/svg\" height=\"24px\"viewBox=\"0 0 24 24\"\n",
              "       width=\"24px\">\n",
              "    <path d=\"M0 0h24v24H0V0z\" fill=\"none\"/>\n",
              "    <path d=\"M18.56 5.44l.94 2.06.94-2.06 2.06-.94-2.06-.94-.94-2.06-.94 2.06-2.06.94zm-11 1L8.5 8.5l.94-2.06 2.06-.94-2.06-.94L8.5 2.5l-.94 2.06-2.06.94zm10 10l.94 2.06.94-2.06 2.06-.94-2.06-.94-.94-2.06-.94 2.06-2.06.94z\"/><path d=\"M17.41 7.96l-1.37-1.37c-.4-.4-.92-.59-1.43-.59-.52 0-1.04.2-1.43.59L10.3 9.45l-7.72 7.72c-.78.78-.78 2.05 0 2.83L4 21.41c.39.39.9.59 1.41.59.51 0 1.02-.2 1.41-.59l7.78-7.78 2.81-2.81c.8-.78.8-2.07 0-2.86zM5.41 20L4 18.59l7.72-7.72 1.47 1.35L5.41 20z\"/>\n",
              "  </svg>\n",
              "      </button>\n",
              "      \n",
              "  <style>\n",
              "    .colab-df-container {\n",
              "      display:flex;\n",
              "      flex-wrap:wrap;\n",
              "      gap: 12px;\n",
              "    }\n",
              "\n",
              "    .colab-df-convert {\n",
              "      background-color: #E8F0FE;\n",
              "      border: none;\n",
              "      border-radius: 50%;\n",
              "      cursor: pointer;\n",
              "      display: none;\n",
              "      fill: #1967D2;\n",
              "      height: 32px;\n",
              "      padding: 0 0 0 0;\n",
              "      width: 32px;\n",
              "    }\n",
              "\n",
              "    .colab-df-convert:hover {\n",
              "      background-color: #E2EBFA;\n",
              "      box-shadow: 0px 1px 2px rgba(60, 64, 67, 0.3), 0px 1px 3px 1px rgba(60, 64, 67, 0.15);\n",
              "      fill: #174EA6;\n",
              "    }\n",
              "\n",
              "    [theme=dark] .colab-df-convert {\n",
              "      background-color: #3B4455;\n",
              "      fill: #D2E3FC;\n",
              "    }\n",
              "\n",
              "    [theme=dark] .colab-df-convert:hover {\n",
              "      background-color: #434B5C;\n",
              "      box-shadow: 0px 1px 3px 1px rgba(0, 0, 0, 0.15);\n",
              "      filter: drop-shadow(0px 1px 2px rgba(0, 0, 0, 0.3));\n",
              "      fill: #FFFFFF;\n",
              "    }\n",
              "  </style>\n",
              "\n",
              "      <script>\n",
              "        const buttonEl =\n",
              "          document.querySelector('#df-8093d640-1277-4cb1-87c7-383c479e56d2 button.colab-df-convert');\n",
              "        buttonEl.style.display =\n",
              "          google.colab.kernel.accessAllowed ? 'block' : 'none';\n",
              "\n",
              "        async function convertToInteractive(key) {\n",
              "          const element = document.querySelector('#df-8093d640-1277-4cb1-87c7-383c479e56d2');\n",
              "          const dataTable =\n",
              "            await google.colab.kernel.invokeFunction('convertToInteractive',\n",
              "                                                     [key], {});\n",
              "          if (!dataTable) return;\n",
              "\n",
              "          const docLinkHtml = 'Like what you see? Visit the ' +\n",
              "            '<a target=\"_blank\" href=https://colab.research.google.com/notebooks/data_table.ipynb>data table notebook</a>'\n",
              "            + ' to learn more about interactive tables.';\n",
              "          element.innerHTML = '';\n",
              "          dataTable['output_type'] = 'display_data';\n",
              "          await google.colab.output.renderOutput(dataTable, element);\n",
              "          const docLink = document.createElement('div');\n",
              "          docLink.innerHTML = docLinkHtml;\n",
              "          element.appendChild(docLink);\n",
              "        }\n",
              "      </script>\n",
              "    </div>\n",
              "  </div>\n",
              "  "
            ]
          },
          "metadata": {},
          "execution_count": 90
        }
      ]
    },
    {
      "cell_type": "code",
      "source": [
        "# Importing the standardscaler package for standardization\n",
        "\n",
        "from sklearn.preprocessing import StandardScaler"
      ],
      "metadata": {
        "id": "USWUCy3zeetm"
      },
      "id": "USWUCy3zeetm",
      "execution_count": 91,
      "outputs": []
    },
    {
      "cell_type": "code",
      "source": [],
      "metadata": {
        "id": "IlowTqUBte2v"
      },
      "id": "IlowTqUBte2v",
      "execution_count": 91,
      "outputs": []
    },
    {
      "cell_type": "code",
      "execution_count": 92,
      "id": "dc1e83fb",
      "metadata": {
        "colab": {
          "base_uri": "https://localhost:8080/"
        },
        "id": "dc1e83fb",
        "outputId": "a1e3bd74-24dd-4774-97aa-de8329c15e8c"
      },
      "outputs": [
        {
          "output_type": "execute_result",
          "data": {
            "text/plain": [
              "RandomForestRegressor(n_estimators=1000, random_state=0)"
            ]
          },
          "metadata": {},
          "execution_count": 92
        }
      ],
      "source": [
        "#define the model\n",
        "model = RandomForestRegressor(n_estimators=1000, criterion='squared_error', max_depth=None, random_state=0)\n",
        "model.fit(X_train,y_train)"
      ]
    },
    {
      "cell_type": "code",
      "source": [
        "model.score(X_train,y_train)"
      ],
      "metadata": {
        "colab": {
          "base_uri": "https://localhost:8080/"
        },
        "id": "oZuewFmPwOtg",
        "outputId": "efcbdd07-40c3-4f0f-c2f1-870a97e905f7"
      },
      "id": "oZuewFmPwOtg",
      "execution_count": 99,
      "outputs": [
        {
          "output_type": "execute_result",
          "data": {
            "text/plain": [
              "0.9992615958478945"
            ]
          },
          "metadata": {},
          "execution_count": 99
        }
      ]
    },
    {
      "cell_type": "code",
      "source": [
        "Y_pred = model.predict(X_test)\n",
        "\n",
        "Y_pred"
      ],
      "metadata": {
        "colab": {
          "base_uri": "https://localhost:8080/"
        },
        "id": "_OR_p26nRf1W",
        "outputId": "5125b995-c4f0-40cc-a3ad-55aa04cc6d95"
      },
      "id": "_OR_p26nRf1W",
      "execution_count": 93,
      "outputs": [
        {
          "output_type": "execute_result",
          "data": {
            "text/plain": [
              "array([6635.733, 1548.072, 3739.225, 6362.626, 7602.479, 7340.047,\n",
              "       1602.024, 2172.977, 7591.797, 5870.294, 1827.9  , 3114.191,\n",
              "       4879.885, 5464.091, 2185.902, 2306.856, 2140.268, 7925.632,\n",
              "       5321.705, 2328.609, 7499.989, 5554.569, 5261.082, 1896.584,\n",
              "       1898.5  , 5090.696, 2129.149, 7461.694, 3937.424, 5616.976,\n",
              "       2768.14 , 3623.644, 6182.928, 7475.961, 6004.496, 3503.331,\n",
              "       7484.957, 5996.14 , 2681.277, 1363.998, 3943.811, 4024.502,\n",
              "       7450.22 , 4935.426, 6895.391,  712.392, 4431.179, 5432.221,\n",
              "       6293.575, 4898.098, 3192.858, 2440.34 , 1043.772, 4411.959,\n",
              "       4737.871, 4732.829, 2419.708, 3395.427, 4813.147, 6997.173,\n",
              "       6247.831, 7489.554, 1518.5  , 7768.472, 6659.855, 6233.639,\n",
              "       7435.658, 4229.432, 2019.887, 7076.85 , 3121.3  , 1315.737,\n",
              "       3840.985, 4612.827, 4401.884, 2145.158, 5641.862, 4750.614,\n",
              "       1465.64 , 4401.686, 2095.951, 2005.713, 5673.858,  534.357,\n",
              "       4060.223, 4097.851, 5414.517, 1227.008, 3616.827, 3407.597,\n",
              "       1512.241, 7123.675, 5897.358, 5042.83 , 3138.079, 2780.828,\n",
              "       4732.882, 2432.068, 3403.562, 4936.239, 7500.483, 3934.665,\n",
              "       6684.556, 2299.156, 2214.87 , 5362.894, 1151.98 , 2745.332,\n",
              "       6810.465, 1410.038, 4607.068, 7340.319, 3604.863, 7812.818,\n",
              "       6210.918, 4457.457, 1513.792, 3310.177, 5955.471, 2264.099,\n",
              "       6366.937, 1868.226, 3245.205, 1440.959, 3958.793, 5094.466,\n",
              "       4555.673, 3346.275, 2129.845, 7679.457, 3354.601, 4083.092,\n",
              "       5496.741, 5439.207, 5869.508, 2258.153, 4401.874, 7406.02 ,\n",
              "       2038.811, 4301.949, 4847.624, 1975.5  , 2146.81 , 4285.109,\n",
              "       2784.447, 5207.949, 4005.911, 4122.468, 1907.603, 3724.871,\n",
              "       4313.311, 7416.374, 4190.825, 4577.716, 1489.259, 3529.709,\n",
              "       4160.692, 6770.06 , 2423.658, 4693.68 , 6274.644, 4169.756,\n",
              "       4136.259, 5472.33 , 1729.543, 3135.476, 6256.919, 1937.602,\n",
              "       3622.654, 4385.651, 6990.442, 7270.448, 1940.684, 3873.197,\n",
              "       4596.552, 5716.723, 5012.997, 6033.053, 4259.391, 1896.21 ,\n",
              "       1090.533, 7042.423, 7362.599, 5587.609, 7651.555, 8152.103,\n",
              "       7532.965, 2278.576, 5674.941, 1679.336, 7633.954, 3142.453,\n",
              "       4192.745, 5064.052, 2227.798, 1693.68 , 3626.437, 1951.483,\n",
              "       1098.549, 5239.176, 4830.532, 6149.258, 5549.546, 5135.362,\n",
              "       4138.147, 2742.737, 7848.42 , 2421.374, 7363.69 , 6724.089,\n",
              "       7511.285, 3911.454, 5653.461, 3522.826, 5309.966, 2714.425,\n",
              "       7380.955, 6780.856, 4814.194, 3870.217])"
            ]
          },
          "metadata": {},
          "execution_count": 93
        }
      ]
    },
    {
      "cell_type": "code",
      "source": [
        "from sklearn.model_selection import ShuffleSplit\n",
        "from sklearn.model_selection import cross_val_score\n",
        "cv=ShuffleSplit(n_splits=5,test_size=0.2,random_state=0)\n",
        "cross_val_score(RandomForestRegressor(),X_test,y_test,cv=cv)"
      ],
      "metadata": {
        "colab": {
          "base_uri": "https://localhost:8080/"
        },
        "id": "YOW-ertRG7y7",
        "outputId": "576ddf9b-a0a3-4833-d36f-85f2ef0ac7c9"
      },
      "id": "YOW-ertRG7y7",
      "execution_count": 94,
      "outputs": [
        {
          "output_type": "execute_result",
          "data": {
            "text/plain": [
              "array([0.99092598, 0.98240159, 0.98933622, 0.96358446, 0.97303612])"
            ]
          },
          "metadata": {},
          "execution_count": 94
        }
      ]
    },
    {
      "cell_type": "code",
      "source": [
        "from sklearn.metrics import mean_squared_error\n",
        "\n",
        "\n",
        "mse = mean_squared_error(y_test, Y_pred)\n",
        "\n",
        "mse"
      ],
      "metadata": {
        "colab": {
          "base_uri": "https://localhost:8080/"
        },
        "id": "9bkas1D7RgLA",
        "outputId": "ae946882-9df9-4fa4-af38-d29022046916"
      },
      "id": "9bkas1D7RgLA",
      "execution_count": 95,
      "outputs": [
        {
          "output_type": "execute_result",
          "data": {
            "text/plain": [
              "10221.242595068183"
            ]
          },
          "metadata": {},
          "execution_count": 95
        }
      ]
    },
    {
      "cell_type": "code",
      "source": [
        "from sklearn.metrics import mean_absolute_error\n",
        "\n",
        "mae = mean_absolute_error(y_test, Y_pred)\n",
        "\n",
        "mae"
      ],
      "metadata": {
        "colab": {
          "base_uri": "https://localhost:8080/"
        },
        "id": "gDhfNwCmRgOc",
        "outputId": "221ba4dd-6310-424b-c738-8f0b6cd552e0"
      },
      "id": "gDhfNwCmRgOc",
      "execution_count": 96,
      "outputs": [
        {
          "output_type": "execute_result",
          "data": {
            "text/plain": [
              "67.07791363636365"
            ]
          },
          "metadata": {},
          "execution_count": 96
        }
      ]
    },
    {
      "cell_type": "code",
      "source": [
        "from sklearn.metrics import r2_score\n",
        "\n",
        "r2 = r2_score(y_test, Y_pred)\n",
        "\n",
        "print(r2)"
      ],
      "metadata": {
        "colab": {
          "base_uri": "https://localhost:8080/"
        },
        "id": "D4kRhv0Tgt8l",
        "outputId": "13775add-2c9b-447f-bfb5-00cf712716f0"
      },
      "id": "D4kRhv0Tgt8l",
      "execution_count": 102,
      "outputs": [
        {
          "output_type": "stream",
          "name": "stdout",
          "text": [
            "0.9974311812672865\n"
          ]
        }
      ]
    },
    {
      "cell_type": "code",
      "source": [
        "from sklearn import metrics\n",
        "print('MAE :',\" \", metrics.mean_absolute_error(y_test,Y_pred))\n",
        "print('MSE :',\" \", metrics.mean_squared_error(y_test,Y_pred))\n",
        "\n",
        "print('RMsE :',\" \", np.sqrt(metrics.mean_squared_error(y_test,Y_pred)))"
      ],
      "metadata": {
        "colab": {
          "base_uri": "https://localhost:8080/"
        },
        "id": "c-3zlCilhLQJ",
        "outputId": "fc5c406d-ca9e-4239-dfae-6733b42c98d0"
      },
      "id": "c-3zlCilhLQJ",
      "execution_count": 104,
      "outputs": [
        {
          "output_type": "stream",
          "name": "stdout",
          "text": [
            "MAE :   67.07791363636365\n",
            "MSE :   10221.242595068183\n",
            "RMsE :   101.10016120198911\n"
          ]
        }
      ]
    },
    {
      "cell_type": "code",
      "source": [],
      "metadata": {
        "id": "vUGhTEq8kkmi"
      },
      "id": "vUGhTEq8kkmi",
      "execution_count": 40,
      "outputs": []
    }
  ],
  "metadata": {
    "colab": {
      "provenance": []
    },
    "kernelspec": {
      "display_name": "Python 3 (ipykernel)",
      "language": "python",
      "name": "python3"
    },
    "language_info": {
      "codemirror_mode": {
        "name": "ipython",
        "version": 3
      },
      "file_extension": ".py",
      "mimetype": "text/x-python",
      "name": "python",
      "nbconvert_exporter": "python",
      "pygments_lexer": "ipython3",
      "version": "3.9.12"
    }
  },
  "nbformat": 4,
  "nbformat_minor": 5
}